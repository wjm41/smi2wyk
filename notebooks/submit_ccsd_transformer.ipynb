{
 "cells": [
  {
   "cell_type": "markdown",
   "metadata": {},
   "source": [
    "# 13th May 2022\n",
    "\n",
    "Notebook for submitting transformer jobs training on molecular smiles -> prototype label & pearson label."
   ]
  },
  {
   "cell_type": "code",
   "execution_count": 4,
   "metadata": {},
   "outputs": [],
   "source": [
    "from typing import List\n",
    "\n",
    "def write_slurm_script(job_name: str,\n",
    "                       run_time: str,\n",
    "                       output_name: str,\n",
    "                       script: str,\n",
    "                       file_name: str,\n",
    "                       args: List = None,\n",
    "                       package_dir: str = None,\n",
    "                       email: bool = False,\n",
    "                       gpu: bool = False,\n",
    "                       conda_env: str = 'ampere'):\n",
    "\n",
    "    if gpu:\n",
    "        slurm_options = [\n",
    "            '#!/bin/bash',\n",
    "            f'#SBATCH -J {job_name}',\n",
    "            '#SBATCH -A LEE-WJM41-SL2-GPU',\n",
    "            '#SBATCH --nodes=1',\n",
    "            '#SBATCH --ntasks=1',\n",
    "            '#SBATCH --gres=gpu:1',\n",
    "            f'#SBATCH --time={run_time}',\n",
    "            '#SBATCH --mail-user=wjm41@cam.ac.uk',\n",
    "            f'#SBATCH --output={output_name}',\n",
    "            '#SBATCH -p ampere',\n",
    "        ]\n",
    "    else:\n",
    "        slurm_options = [\n",
    "            '#!/bin/bash',\n",
    "            f'#SBATCH -J {job_name}',\n",
    "            '#SBATCH -A LEE-WJM41-SL2-CPU',\n",
    "            '#SBATCH --nodes=1',\n",
    "            '#SBATCH --ntasks=1',\n",
    "            ' #SBATCH --cpus-per-task=1',\n",
    "            f'#SBATCH --time={run_time}',\n",
    "            '#SBATCH --mail-user=wjm41@cam.ac.uk',\n",
    "            f'#SBATCH --output={output_name}',\n",
    "            '#SBATCH -p icelake-himem',\n",
    "        ]\n",
    "    if email:\n",
    "        slurm_options.append('#SBATCH --mail-type=ALL')\n",
    "\n",
    "    if gpu:\n",
    "        module_options = [\n",
    "            '. /etc/profile.d/modules.sh',\n",
    "            'module purge',\n",
    "            'module load rhel8/default-amp',\n",
    "            'module load miniconda/3',\n",
    "            f'source activate {conda_env}',\n",
    "        ]\n",
    "    else:\n",
    "        module_options = [\n",
    "            '. /etc/profile.d/modules.sh',\n",
    "            'module purge',\n",
    "            'module load rhel8/default-amp',\n",
    "            'module load miniconda/3',\n",
    "            f'source activate {conda_env}',\n",
    "        ]\n",
    "    if package_dir is not None:\n",
    "        pre_empt = f'cd {package_dir}; pip install . --use-feature=in-tree-build'\n",
    "    else:\n",
    "        pre_empt = ''\n",
    "\n",
    "    slurm_options = '\\n'.join(slurm_options)\n",
    "    module_options = '\\n'.join(module_options)\n",
    "    if args is not None:\n",
    "        command_to_run = ' '.join([script]+args)\n",
    "    else:\n",
    "        command_to_run = script\n",
    "        \n",
    "    string_to_write = f'{slurm_options}\\n{module_options}\\n{pre_empt}\\n{command_to_run}'\n",
    "\n",
    "    with open(file_name, 'w') as f:\n",
    "        f.write(string_to_write)\n",
    "\n",
    "    return\n"
   ]
  },
  {
   "cell_type": "markdown",
   "metadata": {},
   "source": [
    "Training"
   ]
  },
  {
   "cell_type": "code",
   "execution_count": 4,
   "metadata": {},
   "outputs": [
    {
     "name": "stdout",
     "output_type": "stream",
     "text": [
      "Submitted training jobs for /rds-d2/user/wjm41/hpc-work/models/smi2wyk/smi2protopear/smi2protopear on /home/wjm41/ml_physics/smi2wyk/data/smi2protopear/ultra_large/smi2protopear_negative.pkl\n",
      "Submitted batch job 61038925\n"
     ]
    }
   ],
   "source": [
    "import os\n",
    "\n",
    "current_dir = os.getcwd()\n",
    "data_dir = '/home/wjm41/ml_physics/smi2wyk/data/smi2protopear'\n",
    "log_dir = '/home/wjm41/ml_physics/smi2wyk/runs/smi2protopear'\n",
    "\n",
    "dataset = 'smi2protopear'\n",
    "model_name = 'smi2protopear'\n",
    "model_dir = f'/rds-d2/user/wjm41/hpc-work/models/smi2wyk/{dataset}'\n",
    "\n",
    "run_dir = '/home/wjm41/ml_physics/smi2wyk/runs/smi2protopear'\n",
    "\n",
    "model_path = f'{model_dir}/{model_name}'\n",
    "\n",
    "data_path = f'{data_dir}/ultra_large/{dataset}_negative.pkl'\n",
    "\n",
    "preprocess_script = f'onmt_build_vocab -config {data_dir}/preprocess.yaml'\n",
    "train_script = f'onmt_train -config {data_dir}/train_single.yaml -tensorboard True -tensorboard_log_dir {run_dir}'\n",
    "script = f'{preprocess_script}\\n{train_script}'\n",
    "\n",
    "file_name = f'subm_train_{dataset}'\n",
    "run_time = '3:00:00'\n",
    "output_name = f'{current_dir}/{file_name}.out'\n",
    "\n",
    "write_slurm_script(job_name=f'{file_name}',\n",
    "                   run_time=f'{run_time}',\n",
    "                   output_name=output_name,\n",
    "                   script=script,\n",
    "                   file_name=file_name,\n",
    "                   email=True,\n",
    "                   conda_env='DebiasedMT',\n",
    "                   gpu=True\n",
    "                   )\n",
    "\n",
    "print(f\"Submitted training jobs for {model_path} on {data_path}\")\n",
    "\n",
    "!sbatch {file_name}\n"
   ]
  },
  {
   "cell_type": "markdown",
   "metadata": {},
   "source": [
    "Translation"
   ]
  },
  {
   "cell_type": "code",
   "execution_count": 11,
   "metadata": {},
   "outputs": [
    {
     "name": "stdout",
     "output_type": "stream",
     "text": [
      "Submitted translation & scoring jobs for /rds-d2/user/wjm41/hpc-work/models/smi2wyk/smi2protopear_step_20000.pt on /home/wjm41/ml_physics/smi2wyk/data/smi2protopear\n",
      "Submitted batch job 61050354\n"
     ]
    }
   ],
   "source": [
    "import os\n",
    "\n",
    "current_dir = os.getcwd()\n",
    "data_dir = '/home/wjm41/ml_physics/smi2wyk/data/smi2protopear'\n",
    "log_dir = '/home/wjm41/ml_physics/smi2wyk/runs/smi2protopear'\n",
    "\n",
    "dataset = 'smi2protopear'\n",
    "\n",
    "model_name = 'smi2protopear'\n",
    "step = 20000\n",
    "model_dir = f'/rds-d2/user/wjm41/hpc-work/models/smi2wyk'\n",
    "model_path = f'{model_dir}/{model_name}_step_{step}.pt'\n",
    "\n",
    "run_dir = '/home/wjm41/ml_physics/smi2wyk/runs/smi2protopear'\n",
    "script_dir = '/home/wjm41/ml_physics/smi2wyk/smi2wyk'\n",
    "\n",
    "pred_name = f'{data_dir}/pred_step_{step}.txt'\n",
    "\n",
    "translate_script = f'onmt_translate -model {model_path} -src {data_dir}/src-test.txt -output {pred_name} -n_best 5 -beam_size 5 -gpu 0'\n",
    "score_script = f'python {script_dir}/score_predictions.py -targets {data_dir}/tgt-test.csv -beam_size 5 -predictions {pred_name}'\n",
    "script = f'{translate_script}\\n{score_script}'\n",
    "\n",
    "file_name = f'subm_test_{dataset}_{step}'\n",
    "run_time = '1:00:00'\n",
    "output_name = f'{current_dir}/{file_name}.out'\n",
    "\n",
    "write_slurm_script(job_name=f'{file_name}',\n",
    "                   run_time=f'{run_time}',\n",
    "                   output_name=output_name,\n",
    "                   script=script,\n",
    "                   file_name=file_name,\n",
    "                   email=True,\n",
    "                   conda_env='DebiasedMT',\n",
    "                   gpu=True\n",
    "                   )\n",
    "\n",
    "print(f\"Submitted translation & scoring jobs for {model_path} on {data_dir}\")\n",
    "\n",
    "!sbatch {file_name}\n"
   ]
  }
 ],
 "metadata": {
  "interpreter": {
   "hash": "7367a18b348ca6007dd30e14cd00de3b4d55612a2acbb3a217e58adb00f48737"
  },
  "kernelspec": {
   "display_name": "Python 3.7.10 64-bit ('fresco')",
   "language": "python",
   "name": "python3"
  },
  "language_info": {
   "codemirror_mode": {
    "name": "ipython",
    "version": 3
   },
   "file_extension": ".py",
   "mimetype": "text/x-python",
   "name": "python",
   "nbconvert_exporter": "python",
   "pygments_lexer": "ipython3",
   "version": "3.7.10"
  },
  "orig_nbformat": 4
 },
 "nbformat": 4,
 "nbformat_minor": 2
}
