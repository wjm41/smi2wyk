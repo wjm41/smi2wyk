{
 "cells": [
  {
   "cell_type": "markdown",
   "metadata": {},
   "source": [
    "# Wyckoff from CSD Entry\n",
    "\n",
    "6th May - A notebook for testing whether it is possible to easily obtain Wyckoff representations from a CSD entry."
   ]
  },
  {
   "cell_type": "markdown",
   "metadata": {},
   "source": [
    "Import CSD reader"
   ]
  },
  {
   "cell_type": "code",
   "execution_count": 33,
   "metadata": {},
   "outputs": [],
   "source": [
    "from ccdc import io, utilities\n",
    "\n",
    "csd_reader = io.EntryReader('/Applications/CCDC/CSD_2022/DATA/CSD_543/as543be_ASER.sqlite')\n",
    "entry_abebuf = csd_reader.entry('CAXZEG')\n",
    "entry_abebuf = csd_reader.entry('ADAGES')\n",
    "entry_abebuf = csd_reader.entry('ABEBUF')\n",
    "\n",
    "# cryst_abebuf = csd_reader.crystal('ABEBUF')\n",
    "# mol_abebuf = csd_reader.molecule('ABEBUF')"
   ]
  },
  {
   "cell_type": "code",
   "execution_count": 36,
   "metadata": {},
   "outputs": [
    {
     "name": "stdout",
     "output_type": "stream",
     "text": [
      "SMILES: O=C1Nc2ccccc2C(=O)Nc2ccccc12.c1ccncc1\n",
      "Crystal System: orthorhombic\n",
      "Spacegroup Symbol: Pbca\n",
      "Spacegroup number: (61, 1)\n",
      "x,y,z             {Atom(C1), Atom(C10), Atom(C11), Atom(C12), Atom(C13), Atom(C14), Atom(C15), Atom(C16), Atom(C17), Atom(C18), Atom(C19), Atom(C2), Atom(C3), Atom(C4), Atom(C5), Atom(C6), Atom(C7), Atom(C8), Atom(C9), Atom(H1), Atom(H10), Atom(H11), Atom(H12), Atom(H13), Atom(H14), Atom(H15), Atom(H2), Atom(H3), Atom(H4), Atom(H5), Atom(H6), Atom(H7), Atom(H8), Atom(H9), Atom(N1), Atom(N2), Atom(N3), Atom(O1), Atom(O2)}\n",
      "1/2+x,y,1/2-z     set()\n",
      "x,1/2-y,1/2+z     set()\n",
      "1/2-x,1/2+y,z     set()\n",
      "-x,-y,-z          set()\n",
      "1/2-x,-y,1/2+z    set()\n",
      "-x,1/2+y,1/2-z    set()\n",
      "1/2+x,1/2-y,-z    set()\n"
     ]
    }
   ],
   "source": [
    "crystal = entry_abebuf.crystal\n",
    "\n",
    "print(f'SMILES: {crystal.molecule.smiles}')\n",
    "print(f'Crystal System: {crystal.crystal_system}')\n",
    "print(f'Spacegroup Symbol: {crystal.spacegroup_symbol}')\n",
    "print(f'Spacegroup Number: {crystal.spacegroup_number_and_setting}')\n",
    "\n",
    "print('\\n'.join('%-17s %s' % (op, utilities.print_set(crystal.atoms_on_special_positions(op))) for op in crystal.symmetry_operators))"
   ]
  },
  {
   "cell_type": "markdown",
   "metadata": {},
   "source": [
    "Try to get wyckoff representation"
   ]
  },
  {
   "cell_type": "code",
   "execution_count": null,
   "metadata": {},
   "outputs": [],
   "source": [
    "cry_sys_dict = {\n",
    "    \"triclinic\": \"a\",\n",
    "    \"monoclinic\": \"m\",\n",
    "    \"orthorhombic\": \"o\",\n",
    "    \"tetragonal\": \"t\",\n",
    "    \"trigonal\": \"h\",\n",
    "    \"hexagonal\": \"h\",\n",
    "    \"cubic\": \"c\",\n",
    "}\n",
    "\n",
    "# get pearson symbol\n",
    "cry_sys = crystal.crystal_system\n",
    "spg_sym = crystal.spacegroup_symbol\n",
    "centering = \"C\" if spg_sym[0] in (\"A\", \"B\", \"C\", \"S\") else spg_sym[0]\n",
    "num_sites_conventional = len(spga.get_symmetry_dataset()[\"std_types\"])\n",
    "pearson = f\"{cry_sys_dict[cry_sys]}{centering}{num_sites_conventional}\""
   ]
  },
  {
   "cell_type": "code",
   "execution_count": 35,
   "metadata": {},
   "outputs": [
    {
     "name": "stdout",
     "output_type": "stream",
     "text": [
      "[Wyckoff position 8c in space group 61 with site symmetry 1\n",
      "x, y, z\n",
      "-x+1/2, -y, z+1/2\n",
      "-x, y+1/2, -z+1/2\n",
      "x+1/2, -y+1/2, -z\n",
      "-x, -y, -z\n",
      "x+1/2, y, -z+1/2\n",
      "x, -y+1/2, z+1/2\n",
      "-x+1/2, y+1/2, z, Wyckoff position 4b in space group 61 with site symmetry -1\n",
      "0, 0, 1/2\n",
      "1/2, 0, 0\n",
      "0, 1/2, 0\n",
      "1/2, 1/2, 1/2, Wyckoff position 4a in space group 61 with site symmetry -1\n",
      "0, 0, 0\n",
      "1/2, 0, 1/2\n",
      "0, 1/2, 1/2\n",
      "1/2, 1/2, 0]\n",
      "['8c', '4b', '4a']\n"
     ]
    }
   ],
   "source": [
    "from pyxtal.symmetry import Group\n",
    "\n",
    "g = Group(crystal.spacegroup_symbol)\n",
    "print(g.Wyckoff_positions)\n",
    "print(g.get_wp_list())"
   ]
  },
  {
   "cell_type": "code",
   "execution_count": null,
   "metadata": {},
   "outputs": [],
   "source": []
  }
 ],
 "metadata": {
  "interpreter": {
   "hash": "fade0864c9a24203de3ed0faf9c71c898f3ed861f9409156898a7d5373bdd391"
  },
  "kernelspec": {
   "display_name": "Python 3.7.13 ('csd_env')",
   "language": "python",
   "name": "python3"
  },
  "language_info": {
   "codemirror_mode": {
    "name": "ipython",
    "version": 3
   },
   "file_extension": ".py",
   "mimetype": "text/x-python",
   "name": "python",
   "nbconvert_exporter": "python",
   "pygments_lexer": "ipython3",
   "version": "3.7.13"
  },
  "orig_nbformat": 4
 },
 "nbformat": 4,
 "nbformat_minor": 2
}
