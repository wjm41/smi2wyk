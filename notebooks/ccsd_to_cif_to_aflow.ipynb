{
 "cells": [
  {
   "cell_type": "markdown",
   "metadata": {},
   "source": [
    "# Wyckoff from CSD Entry\n",
    "\n",
    "12th May - A notebook for converting a CSD entry to .cif and then to an aflow label."
   ]
  },
  {
   "cell_type": "markdown",
   "metadata": {},
   "source": [
    "Read CSD entry and write to .cif"
   ]
  },
  {
   "cell_type": "code",
   "execution_count": 57,
   "metadata": {},
   "outputs": [
    {
     "name": "stdout",
     "output_type": "stream",
     "text": [
      "SMILES: None\n",
      "Crystal System: tetragonal\n",
      "Spacegroup Symbol: P4/ncc\n",
      "Spacegroup Number: (130, 2)\n",
      "Has disorder: False\n",
      "Disorder details: None\n",
      "x,y,z             {Atom(C1), Atom(C1C), Atom(C1H), Atom(C1K), Atom(C2), Atom(C2C), Atom(C2H), Atom(C2K), Atom(C3), Atom(C3C), Atom(C3H), Atom(C3K), Atom(C4), Atom(C4C), Atom(C4H), Atom(C4K), Atom(C5), Atom(C5C), Atom(C5H), Atom(C5K), Atom(Cu1), Atom(Cu1N), Atom(Cu1N), Atom(F1), Atom(F2), Atom(F2A), Atom(F2B), Atom(F2G), Atom(F3), Atom(H1), Atom(H1C), Atom(H1H), Atom(H1K), Atom(H2), Atom(H2C), Atom(H2H), Atom(H2K), Atom(H3), Atom(H3C), Atom(H3H), Atom(H3K), Atom(H4), Atom(H4C), Atom(H4H), Atom(H4K), Atom(N1), Atom(N1C), Atom(N1F), Atom(N1G), Atom(N1H), Atom(N1K), Atom(O1), Atom(O1F), Atom(Ti1)}\n",
      "1/2-y,x,z         {Atom(F1), Atom(F3), Atom(Ti1)}\n",
      "y,1/2-x,z         {Atom(F1), Atom(F3), Atom(Ti1)}\n",
      "1/2+y,1/2+x,1/2-z set()\n",
      "1/2+x,-y,1/2-z    set()\n",
      "-x,1/2+y,1/2-z    set()\n",
      "-y,-x,1/2-z       set()\n",
      "1/2-x,1/2-y,z     {Atom(F1), Atom(F3), Atom(Ti1)}\n",
      "-x,-y,-z          set()\n",
      "1/2+y,-x,-z       set()\n",
      "-y,1/2+x,-z       set()\n",
      "1/2-y,1/2-x,1/2+z set()\n",
      "1/2-x,y,1/2+z     set()\n",
      "x,1/2-y,1/2+z     set()\n",
      "y,x,1/2+z         set()\n",
      "1/2+x,1/2+y,-z    set()\n"
     ]
    }
   ],
   "source": [
    "from ccdc import io, utilities\n",
    "\n",
    "csd_reader = io.EntryReader('/Applications/CCDC/CSD_2022/DATA/CSD_543/as543be_ASER.sqlite')\n",
    "# entry = csd_reader.entry('CAXZEG')\n",
    "# entry = csd_reader.entry('ADAGES')\n",
    "\n",
    "entry_name = 'AHUNEW'\n",
    "entry = csd_reader.entry(entry_name)\n",
    "crystal = entry.crystal\n",
    "\n",
    "print(f'SMILES: {crystal.molecule.smiles}')\n",
    "print(f'Crystal System: {crystal.crystal_system}')\n",
    "print(f'Spacegroup Symbol: {crystal.spacegroup_symbol}')\n",
    "print(f'Spacegroup Number: {crystal.spacegroup_number_and_setting}')\n",
    "print(f'Has disorder: {crystal.has_disorder}')\n",
    "print(f'Disorder details: {entry.disorder_details}')\n",
    "\n",
    "\n",
    "print('\\n'.join('%-17s %s' % (op, utilities.print_set(crystal.atoms_on_special_positions(op))) for op in crystal.symmetry_operators))\n",
    "\n",
    "cif_string = crystal.to_string(format='cif')\n",
    "with open('tmp.cif', 'w') as f:\n",
    "    f.write(cif_string)\n"
   ]
  },
  {
   "cell_type": "markdown",
   "metadata": {},
   "source": [
    "Load pymatgen structure from .cif"
   ]
  },
  {
   "cell_type": "code",
   "execution_count": 64,
   "metadata": {},
   "outputs": [
    {
     "name": "stdout",
     "output_type": "stream",
     "text": [
      "A20BC6D16E4F2G_tP200_130_5g_a_2cg_4g_g_f_c:C-Cu-F-H-N-O-Ti\n"
     ]
    }
   ],
   "source": [
    "from wren_code import utils\n",
    "from pymatgen.core import Composition, Structure\n",
    "from pymatgen.io.cif import CifParser, CifFile\n",
    "\n",
    "class CifStringParser(CifParser):\n",
    "    \n",
    "    def __init__(self, cif_string, occupancy_tolerance=1.0, site_tolerance=1e-4):\n",
    "        \"\"\"\n",
    "        Args:\n",
    "            filename (str): CIF filename, bzipped or gzipped CIF files are fine too.\n",
    "            occupancy_tolerance (float): If total occupancy of a site is between 1\n",
    "                and occupancy_tolerance, the occupancies will be scaled down to 1.\n",
    "            site_tolerance (float): This tolerance is used to determine if two\n",
    "                sites are sitting in the same position, in which case they will be\n",
    "                combined to a single disordered site. Defaults to 1e-4.\n",
    "        \"\"\"\n",
    "        self._occupancy_tolerance = occupancy_tolerance\n",
    "        self._site_tolerance = site_tolerance\n",
    "        if isinstance(cif_string, (str,)):\n",
    "            self._cif = CifFile.from_string(cif_string)\n",
    "        else:\n",
    "            raise TypeError('cif_string needs to be a string!')\n",
    "        # store if CIF contains features from non-core CIF dictionaries\n",
    "        # e.g. magCIF\n",
    "        self.feature_flags = {}\n",
    "        self.warnings = []\n",
    "        \n",
    "        def is_magcif():\n",
    "            \"\"\"\n",
    "            Checks to see if file appears to be a magCIF file (heuristic).\n",
    "            \"\"\"\n",
    "            # Doesn't seem to be a canonical way to test if file is magCIF or\n",
    "            # not, so instead check for magnetic symmetry datanames\n",
    "            prefixes = [\n",
    "                \"_space_group_magn\",\n",
    "                \"_atom_site_moment\",\n",
    "                \"_space_group_symop_magn\",\n",
    "            ]\n",
    "            for d in self._cif.data.values():\n",
    "                for k in d.data.keys():\n",
    "                    for prefix in prefixes:\n",
    "                        if prefix in k:\n",
    "                            return True\n",
    "            return False\n",
    "\n",
    "        self.feature_flags[\"magcif\"] = is_magcif()\n",
    "\n",
    "        def is_magcif_incommensurate():\n",
    "            \"\"\"\n",
    "            Checks to see if file contains an incommensurate magnetic\n",
    "            structure (heuristic).\n",
    "            \"\"\"\n",
    "            # Doesn't seem to be a canonical way to test if magCIF file\n",
    "            # describes incommensurate strucure or not, so instead check\n",
    "            # for common datanames\n",
    "            if not self.feature_flags[\"magcif\"]:\n",
    "                return False\n",
    "            prefixes = [\"_cell_modulation_dimension\", \"_cell_wave_vector\"]\n",
    "            for d in self._cif.data.values():\n",
    "                for k in d.data.keys():\n",
    "                    for prefix in prefixes:\n",
    "                        if prefix in k:\n",
    "                            return True\n",
    "            return False\n",
    "\n",
    "        self.feature_flags[\"magcif_incommensurate\"] = is_magcif_incommensurate()\n",
    "\n",
    "        for k in self._cif.data.keys():\n",
    "            # pass individual CifBlocks to _sanitize_data\n",
    "            self._cif.data[k] = self._sanitize_data(self._cif.data[k])\n",
    "            \n",
    "struct = CifStringParser(cif_string, occupancy_tolerance=10).get_structures()[0]\n",
    "# struct = CifParser('tmp.cif', occupancy_tolerance=10).get_structures()[0]\n",
    "# struct = Structure.from_str(cif_string, fmt=\"cif\", merge_tol=0.1)\n",
    "wyckoff_label = utils.get_aflow_label_spglib(struct)\n",
    "print(wyckoff_label)"
   ]
  }
 ],
 "metadata": {
  "interpreter": {
   "hash": "fade0864c9a24203de3ed0faf9c71c898f3ed861f9409156898a7d5373bdd391"
  },
  "kernelspec": {
   "display_name": "Python 3.7.13 ('csd_env')",
   "language": "python",
   "name": "python3"
  },
  "language_info": {
   "codemirror_mode": {
    "name": "ipython",
    "version": 3
   },
   "file_extension": ".py",
   "mimetype": "text/x-python",
   "name": "python",
   "nbconvert_exporter": "python",
   "pygments_lexer": "ipython3",
   "version": "3.7.13"
  },
  "orig_nbformat": 4
 },
 "nbformat": 4,
 "nbformat_minor": 2
}
