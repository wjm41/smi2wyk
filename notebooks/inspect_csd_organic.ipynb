{
 "cells": [
  {
   "cell_type": "markdown",
   "metadata": {},
   "source": [
    "# Analysing CCSD Organic Molecules"
   ]
  },
  {
   "cell_type": "markdown",
   "metadata": {},
   "source": [
    "Calculate parameters of interest"
   ]
  },
  {
   "cell_type": "code",
   "execution_count": 1,
   "metadata": {},
   "outputs": [
    {
     "name": "stderr",
     "output_type": "stream",
     "text": [
      "100%|██████████| 363503/363503 [00:08<00:00, 42719.32it/s]\n",
      "100%|██████████| 363503/363503 [00:01<00:00, 307843.32it/s]\n",
      "100%|██████████| 363503/363503 [00:00<00:00, 546309.07it/s]\n",
      "100%|██████████| 363503/363503 [00:09<00:00, 39731.57it/s]\n"
     ]
    }
   ],
   "source": [
    "import pandas as pd\n",
    "from wren_code.utils import count_wyks, count_params, count_distinct_wyckoff_letters, return_spacegroup_number\n",
    "import pandas as pd\n",
    "from tqdm import tqdm\n",
    "\n",
    "df_organic = pd.read_csv(\"csd_organic.csv\")\n",
    "\n",
    "tqdm.pandas()\n",
    "df_organic['n_atoms'] = df_organic['wyckoff'].progress_apply(count_wyks)\n",
    "df_organic['n_wyk'] = df_organic['wyckoff'].progress_apply(count_distinct_wyckoff_letters)\n",
    "df_organic['spg'] = df_organic['wyckoff'].progress_apply(return_spacegroup_number)\n",
    "df_organic['n_param'] = df_organic['wyckoff'].progress_apply(count_params)\n"
   ]
  },
  {
   "cell_type": "code",
   "execution_count": 2,
   "metadata": {},
   "outputs": [
    {
     "name": "stdout",
     "output_type": "stream",
     "text": [
      "SMILES: F[P-](F)(F)(F)(F)F.F[P-](F)(F)(F)(F)F.F[P-](F)(F)(F)(F)F.COc1ccc(cc1)[C+](c1ccc(OC)cc1)c1c2ccccc2c([C+](c2ccc(OC)cc2)c2ccc(OC)cc2)c2ccccc12\n",
      "Crystal System: tetragonal\n",
      "Spacegroup Symbol: P4/m\n",
      "Spacegroup Number: (83, 1)\n",
      "Has disorder: False\n",
      "Disorder details: None\n",
      "x,y,z             {Atom(C1), Atom(C10), Atom(C10B), Atom(C10D), Atom(C10F), Atom(C11), Atom(C11B), Atom(C11D), Atom(C11F), Atom(C12), Atom(C12B), Atom(C12D), Atom(C12F), Atom(C1B), Atom(C1D), Atom(C1F), Atom(C2), Atom(C2B), Atom(C2D), Atom(C2F), Atom(C3), Atom(C3B), Atom(C3D), Atom(C3F), Atom(C4), Atom(C4D), Atom(C5), Atom(C5D), Atom(C6), Atom(C6B), Atom(C6D), Atom(C6F), Atom(C7), Atom(C7B), Atom(C7D), Atom(C7F), Atom(C8), Atom(C8B), Atom(C8D), Atom(C8F), Atom(C9), Atom(C9B), Atom(C9D), Atom(C9F), Atom(F1), Atom(F1D), Atom(F2), Atom(F2A), Atom(F2B), Atom(F2C), Atom(F3), Atom(F3B), Atom(F4), Atom(F4D), Atom(F5), Atom(F5B), Atom(F6), Atom(F7), Atom(F7A), Atom(F7B), Atom(F7C), Atom(F8), Atom(H1), Atom(H1B), Atom(H1D), Atom(H1F), Atom(H2), Atom(H2B), Atom(H2D), Atom(H2F), Atom(H3), Atom(H3B), Atom(H3D), Atom(H3F), Atom(H4), Atom(H4B), Atom(H4D), Atom(H4F), Atom(H5), Atom(H5B), Atom(H5D), Atom(H5F), Atom(H6), Atom(H6B), Atom(H6D), Atom(H6F), Atom(H7), Atom(H7B), Atom(H7D), Atom(H7F), Atom(H8), Atom(H8B), Atom(H8D), Atom(H8F), Atom(H9), Atom(H9B), Atom(H9D), Atom(H9F), Atom(O1), Atom(O1B), Atom(O1D), Atom(O1F), Atom(P1), Atom(P2), Atom(P3)}\n",
      "-y,x,z            {Atom(F1), Atom(F1D), Atom(P1)}\n",
      "-x,-y,z           {Atom(F1), Atom(F1D), Atom(P1)}\n",
      "y,-x,z            {Atom(F1), Atom(F1D), Atom(P1)}\n",
      "-x,-y,-z          set()\n",
      "y,-x,-z           set()\n",
      "x,y,-z            {Atom(F3), Atom(F3B), Atom(F5), Atom(F5B), Atom(P2)}\n",
      "-y,x,-z           set()\n"
     ]
    }
   ],
   "source": [
    "from ccdc import io, utilities\n",
    "\n",
    "csd_reader = io.EntryReader('/Applications/CCDC/CSD_2022/DATA/CSD_543/as543be_ASER.sqlite')\n",
    "# entry = csd_reader.entry('CAXZEG')\n",
    "# entry = csd_reader.entry('ADAGES')\n",
    "\n",
    "entry_name = 'WOPTAY'\n",
    "entry = csd_reader.entry(entry_name)\n",
    "crystal = entry.crystal\n",
    "\n",
    "print(f'SMILES: {crystal.molecule.smiles}')\n",
    "print(f'Crystal System: {crystal.crystal_system}')\n",
    "print(f'Spacegroup Symbol: {crystal.spacegroup_symbol}')\n",
    "print(f'Spacegroup Number: {crystal.spacegroup_number_and_setting}')\n",
    "print(f'Has disorder: {crystal.has_disorder}')\n",
    "print(f'Disorder details: {entry.disorder_details}')\n",
    "\n",
    "print('\\n'.join('%-17s %s' % (op, utilities.print_set(crystal.atoms_on_special_positions(op))) for op in crystal.symmetry_operators))"
   ]
  },
  {
   "cell_type": "code",
   "execution_count": 3,
   "metadata": {},
   "outputs": [
    {
     "name": "stdout",
     "output_type": "stream",
     "text": [
      "       identifier                                             smiles  \\\n",
      "179039   MOMVIV01                                  Br.OC(=O)c1ccccn1   \n",
      "94325    GEQXUV01         BrB(Br)(Br)[P](c1ccccc1)(c1ccccc1)c1ccccc1   \n",
      "358392   FAXKUM01                                BrB(Br)c1ccc(Br)cc1   \n",
      "27071    BRDCBO01  BrB1234[BH]567[BH]891[BH]1%105[BH]5%116[BH]627...   \n",
      "58250    DOXABR12                                      BrBr.C1COCCO1   \n",
      "...           ...                                                ...   \n",
      "278651   TRIZIN04                                           c1ncncn1   \n",
      "278652   TRIZIN05                                           c1ncncn1   \n",
      "278653   TRIZIN06                                           c1ncncn1   \n",
      "271929   TETRAZ02                                           c1nncnn1   \n",
      "47430    DAHPIL01  c1scc2c1c1cscc1c1cscc1c1cscc21.c1scc2c1c1cscc1...   \n",
      "\n",
      "                                              wyckoff  n_atoms  n_wyk spg  \\\n",
      "179039        AB6C6DE2_aP32_2_i_6i_6i_i_2i:Br-C-H-N-O       16      1   2   \n",
      "94325   AB3C18D15E_mP152_14_e_3e_18e_15e_e:B-Br-C-H-P       38      1  14   \n",
      "358392           AB3C6D4_tI224_88_f_3f_6f_4f:B-Br-C-H       14      1  88   \n",
      "27071           A5BCD5_tP96_78_10a_2a_2a_10a:B-Br-C-H       24      1  78   \n",
      "58250                AB2C4D_mC32_12_i_j_2j_i:Br-C-H-O        5      2  12   \n",
      "...                                               ...      ...    ...  ..   \n",
      "278651                     ABC_mC36_12_gj_gj_gj:C-H-N        6      2  12   \n",
      "278652                     ABC_mC36_12_gj_gj_gj:C-H-N        6      2  12   \n",
      "278653                     ABC_mC36_12_gj_ij_gj:C-H-N        6      3  12   \n",
      "271929                      ABC2_mP16_14_e_e_2e:C-H-N        4      1  14   \n",
      "47430                 A4B2C_mP224_14_32e_16e_8e:C-H-S       56      1  14   \n",
      "\n",
      "        n_param  \n",
      "179039       54  \n",
      "94325       118  \n",
      "358392       44  \n",
      "27071        74  \n",
      "58250        17  \n",
      "...         ...  \n",
      "278651       16  \n",
      "278652       16  \n",
      "278653       17  \n",
      "271929       16  \n",
      "47430       172  \n",
      "\n",
      "[28927 rows x 7 columns]\n"
     ]
    }
   ],
   "source": [
    "smiles_groups = df_organic.groupby('smiles')\n",
    "print(df_organic.query('smiles.duplicated()').sort_values(by='smiles').dropna())"
   ]
  },
  {
   "cell_type": "code",
   "execution_count": 4,
   "metadata": {},
   "outputs": [
    {
     "data": {
      "text/plain": [
       "array(['A29B4C17D2E3F_mC224_12_g2h13j_2j_h8j_j_gj_g:C-F-H-I-N-O'],\n",
       "      dtype=object)"
      ]
     },
     "execution_count": 4,
     "metadata": {},
     "output_type": "execute_result"
    }
   ],
   "source": [
    "df_organic.query('identifier==\"AFUHAN\"').wyckoff.values"
   ]
  },
  {
   "cell_type": "code",
   "execution_count": 5,
   "metadata": {},
   "outputs": [
    {
     "name": "stdout",
     "output_type": "stream",
     "text": [
      "257259\n"
     ]
    }
   ],
   "source": [
    "print(len(df_organic.wyckoff.unique()))"
   ]
  },
  {
   "cell_type": "code",
   "execution_count": 6,
   "metadata": {},
   "outputs": [
    {
     "data": {
      "text/html": [
       "<div>\n",
       "<style scoped>\n",
       "    .dataframe tbody tr th:only-of-type {\n",
       "        vertical-align: middle;\n",
       "    }\n",
       "\n",
       "    .dataframe tbody tr th {\n",
       "        vertical-align: top;\n",
       "    }\n",
       "\n",
       "    .dataframe thead th {\n",
       "        text-align: right;\n",
       "    }\n",
       "</style>\n",
       "<table border=\"1\" class=\"dataframe\">\n",
       "  <thead>\n",
       "    <tr style=\"text-align: right;\">\n",
       "      <th></th>\n",
       "      <th>identifier</th>\n",
       "      <th>smiles</th>\n",
       "      <th>wyckoff</th>\n",
       "      <th>n_atoms</th>\n",
       "      <th>n_wyk</th>\n",
       "      <th>spg</th>\n",
       "      <th>n_param</th>\n",
       "    </tr>\n",
       "  </thead>\n",
       "  <tbody>\n",
       "    <tr>\n",
       "      <th>317038</th>\n",
       "      <td>WOPTAY</td>\n",
       "      <td>F[P-](F)(F)(F)(F)F.F[P-](F)(F)(F)(F)F.F[P-](F)...</td>\n",
       "      <td>A88B30C72D8E5_tP203_83_2i10l_g2hi2jkl_9l_l_beh...</td>\n",
       "      <td>33</td>\n",
       "      <td>8</td>\n",
       "      <td>83</td>\n",
       "      <td>78</td>\n",
       "    </tr>\n",
       "    <tr>\n",
       "      <th>333133</th>\n",
       "      <td>XUTPOR02</td>\n",
       "      <td>CN1C=C[N+](=C1)C.F[P-](F)(F)(F)(F)F.F[P-](F)(F...</td>\n",
       "      <td>A5B6C15D2E_tI232_140_g2l_2fik_gl3m_l_ac:C-F-H-N-P</td>\n",
       "      <td>15</td>\n",
       "      <td>8</td>\n",
       "      <td>140</td>\n",
       "      <td>26</td>\n",
       "    </tr>\n",
       "  </tbody>\n",
       "</table>\n",
       "</div>"
      ],
      "text/plain": [
       "       identifier                                             smiles  \\\n",
       "317038     WOPTAY  F[P-](F)(F)(F)(F)F.F[P-](F)(F)(F)(F)F.F[P-](F)...   \n",
       "333133   XUTPOR02  CN1C=C[N+](=C1)C.F[P-](F)(F)(F)(F)F.F[P-](F)(F...   \n",
       "\n",
       "                                                  wyckoff  n_atoms  n_wyk  \\\n",
       "317038  A88B30C72D8E5_tP203_83_2i10l_g2hi2jkl_9l_l_beh...       33      8   \n",
       "333133  A5B6C15D2E_tI232_140_g2l_2fik_gl3m_l_ac:C-F-H-N-P       15      8   \n",
       "\n",
       "        spg  n_param  \n",
       "317038   83       78  \n",
       "333133  140       26  "
      ]
     },
     "execution_count": 6,
     "metadata": {},
     "output_type": "execute_result"
    }
   ],
   "source": [
    "df_organic.query('n_wyk > 7').head(n=10)"
   ]
  },
  {
   "cell_type": "markdown",
   "metadata": {},
   "source": [
    "Number of wyckoff letters"
   ]
  },
  {
   "cell_type": "code",
   "execution_count": 7,
   "metadata": {},
   "outputs": [
    {
     "data": {
      "text/plain": [
       "<AxesSubplot:>"
      ]
     },
     "execution_count": 7,
     "metadata": {},
     "output_type": "execute_result"
    },
    {
     "data": {
      "image/png": "[encoded data removed]",
      "text/plain": [
       "<Figure size 432x288 with 1 Axes>"
      ]
     },
     "metadata": {
      "needs_background": "light"
     },
     "output_type": "display_data"
    }
   ],
   "source": [
    "df_organic.n_wyk.value_counts().plot(kind='bar', log=True)"
   ]
  },
  {
   "cell_type": "code",
   "execution_count": 8,
   "metadata": {},
   "outputs": [
    {
     "data": {
      "text/plain": [
       "<AxesSubplot:>"
      ]
     },
     "execution_count": 8,
     "metadata": {},
     "output_type": "execute_result"
    },
    {
     "data": {
      "image/png": "[encoded data removed]",
      "text/plain": [
       "<Figure size 432x288 with 1 Axes>"
      ]
     },
     "metadata": {
      "needs_background": "light"
     },
     "output_type": "display_data"
    }
   ],
   "source": [
    "df_organic.spg.value_counts().plot(kind='bar', log=True)"
   ]
  },
  {
   "cell_type": "code",
   "execution_count": 9,
   "metadata": {},
   "outputs": [],
   "source": [
    "# df_organic.spg.astype(int).plot(kind='bar')"
   ]
  },
  {
   "cell_type": "code",
   "execution_count": 10,
   "metadata": {},
   "outputs": [
    {
     "data": {
      "text/plain": [
       "<AxesSubplot:ylabel='Frequency'>"
      ]
     },
     "execution_count": 10,
     "metadata": {},
     "output_type": "execute_result"
    },
    {
     "data": {
      "image/png": "[encoded data removed]",
      "text/plain": [
       "<Figure size 432x288 with 1 Axes>"
      ]
     },
     "metadata": {
      "needs_background": "light"
     },
     "output_type": "display_data"
    }
   ],
   "source": [
    "df_organic.n_atoms.value_counts().plot(kind='hist')"
   ]
  },
  {
   "cell_type": "markdown",
   "metadata": {},
   "source": [
    "Tokenize SMILES and wyckoff rep"
   ]
  },
  {
   "cell_type": "code",
   "execution_count": 11,
   "metadata": {},
   "outputs": [
    {
     "name": "stderr",
     "output_type": "stream",
     "text": [
      "100%|██████████| 363503/363503 [00:02<00:00, 146737.74it/s]\n",
      "100%|██████████| 363503/363503 [00:01<00:00, 249721.90it/s]\n"
     ]
    },
    {
     "data": {
      "text/html": [
       "<div>\n",
       "<style scoped>\n",
       "    .dataframe tbody tr th:only-of-type {\n",
       "        vertical-align: middle;\n",
       "    }\n",
       "\n",
       "    .dataframe tbody tr th {\n",
       "        vertical-align: top;\n",
       "    }\n",
       "\n",
       "    .dataframe thead th {\n",
       "        text-align: right;\n",
       "    }\n",
       "</style>\n",
       "<table border=\"1\" class=\"dataframe\">\n",
       "  <thead>\n",
       "    <tr style=\"text-align: right;\">\n",
       "      <th></th>\n",
       "      <th>identifier</th>\n",
       "      <th>smiles</th>\n",
       "      <th>wyckoff</th>\n",
       "      <th>prototype</th>\n",
       "      <th>pearson</th>\n",
       "    </tr>\n",
       "  </thead>\n",
       "  <tbody>\n",
       "    <tr>\n",
       "      <th>0</th>\n",
       "      <td>AABHTZ</td>\n",
       "      <td>CC(=O)NN1C=NN=C1N(N=Cc1c(Cl)cccc1Cl)C(C)=O</td>\n",
       "      <td>A13B2C12D6E2_aP70_2_13i_2i_12i_6i_2i:C-Cl-H-N-O</td>\n",
       "      <td>A 13 B 2 C 12 D 6 E 2</td>\n",
       "      <td>a P 70</td>\n",
       "    </tr>\n",
       "    <tr>\n",
       "      <th>1</th>\n",
       "      <td>AACFAZ10</td>\n",
       "      <td>COC1=C(C(OC1=O)c1ccccc1Cl)C(C)=NN=C(C)C1=C(OC)...</td>\n",
       "      <td>A13BC11DE3_oP232_60_13d_d_11d_d_3d:C-Cl-H-N-O</td>\n",
       "      <td>A 13 B C 11 D E 3</td>\n",
       "      <td>o P 232</td>\n",
       "    </tr>\n",
       "    <tr>\n",
       "      <th>2</th>\n",
       "      <td>AACMHX10</td>\n",
       "      <td>CC(=O)OC(=C1CCCCC1c1ccccc1)c1ccccc1</td>\n",
       "      <td>A21B22C2_oP360_61_21c_22c_2c:C-H-O</td>\n",
       "      <td>A 21 B 22 C 2</td>\n",
       "      <td>o P 360</td>\n",
       "    </tr>\n",
       "    <tr>\n",
       "      <th>3</th>\n",
       "      <td>AADAMC</td>\n",
       "      <td>[Br-].[NH3+]C1(C2CC3CC(C2)CC1C3)C(O)=O</td>\n",
       "      <td>AB11C18DE2_mP132_14_e_11e_18e_e_2e:Br-C-H-N-O</td>\n",
       "      <td>A B 11 C 18 D E 2</td>\n",
       "      <td>m P 132</td>\n",
       "    </tr>\n",
       "    <tr>\n",
       "      <th>4</th>\n",
       "      <td>AADMPY10</td>\n",
       "      <td>Cc1[nH+]c(N)nc(N)c1C12CC3CC(CC(C3)C1)C2.CCS(=O...</td>\n",
       "      <td>A17B28C4D3E_aP106_2_17i_28i_4i_3i_i:C-H-N-O-S</td>\n",
       "      <td>A 17 B 28 C 4 D 3 E</td>\n",
       "      <td>a P 106</td>\n",
       "    </tr>\n",
       "    <tr>\n",
       "      <th>...</th>\n",
       "      <td>...</td>\n",
       "      <td>...</td>\n",
       "      <td>...</td>\n",
       "      <td>...</td>\n",
       "      <td>...</td>\n",
       "    </tr>\n",
       "    <tr>\n",
       "      <th>363498</th>\n",
       "      <td>ZUWRIS01</td>\n",
       "      <td>Oc1ccccc1C=NNS(=O)(=O)c1ccccc1</td>\n",
       "      <td>A13B12C2D3E_mP124_14_13e_12e_2e_3e_e:C-H-N-O-S</td>\n",
       "      <td>A 13 B 12 C 2 D 3 E</td>\n",
       "      <td>m P 124</td>\n",
       "    </tr>\n",
       "    <tr>\n",
       "      <th>363499</th>\n",
       "      <td>ZZZDTW01</td>\n",
       "      <td>OC(=O)CC(O)(CC(O)=O)C(=O)[O-].[NH4+]</td>\n",
       "      <td>A6B11CD7_aP50_2_6i_ac10i_i_7i:C-H-N-O</td>\n",
       "      <td>A 6 B 11 C D 7</td>\n",
       "      <td>a P 50</td>\n",
       "    </tr>\n",
       "    <tr>\n",
       "      <th>363500</th>\n",
       "      <td>ZZZJCQ04</td>\n",
       "      <td>c1ccc(cc1)N(c1ccccc1)c1ccccc1.c1ccc(cc1)N(c1cc...</td>\n",
       "      <td>A18B15C_mC544_9_72a_60a_4a:C-H-N</td>\n",
       "      <td>A 18 B 15 C</td>\n",
       "      <td>m C 544</td>\n",
       "    </tr>\n",
       "    <tr>\n",
       "      <th>363501</th>\n",
       "      <td>ZZZPTQ01</td>\n",
       "      <td>[NH3+]CC(=O)NCC(=O)NCC(=O)[O-].O.O</td>\n",
       "      <td>A2B5CD2_oP120_29_6a_15a_3a_6a:C-H-N-O</td>\n",
       "      <td>A 2 B 5 C D 2</td>\n",
       "      <td>o P 120</td>\n",
       "    </tr>\n",
       "    <tr>\n",
       "      <th>363502</th>\n",
       "      <td>ZZZSEA03</td>\n",
       "      <td>OC1COC(O)C(O)C1O</td>\n",
       "      <td>AB2C_oP80_19_5a_10a_5a:C-H-O</td>\n",
       "      <td>A B 2 C</td>\n",
       "      <td>o P 80</td>\n",
       "    </tr>\n",
       "  </tbody>\n",
       "</table>\n",
       "<p>363503 rows × 5 columns</p>\n",
       "</div>"
      ],
      "text/plain": [
       "       identifier                                             smiles  \\\n",
       "0          AABHTZ         CC(=O)NN1C=NN=C1N(N=Cc1c(Cl)cccc1Cl)C(C)=O   \n",
       "1        AACFAZ10  COC1=C(C(OC1=O)c1ccccc1Cl)C(C)=NN=C(C)C1=C(OC)...   \n",
       "2        AACMHX10                CC(=O)OC(=C1CCCCC1c1ccccc1)c1ccccc1   \n",
       "3          AADAMC             [Br-].[NH3+]C1(C2CC3CC(C2)CC1C3)C(O)=O   \n",
       "4        AADMPY10  Cc1[nH+]c(N)nc(N)c1C12CC3CC(CC(C3)C1)C2.CCS(=O...   \n",
       "...           ...                                                ...   \n",
       "363498   ZUWRIS01                     Oc1ccccc1C=NNS(=O)(=O)c1ccccc1   \n",
       "363499   ZZZDTW01               OC(=O)CC(O)(CC(O)=O)C(=O)[O-].[NH4+]   \n",
       "363500   ZZZJCQ04  c1ccc(cc1)N(c1ccccc1)c1ccccc1.c1ccc(cc1)N(c1cc...   \n",
       "363501   ZZZPTQ01                 [NH3+]CC(=O)NCC(=O)NCC(=O)[O-].O.O   \n",
       "363502   ZZZSEA03                                   OC1COC(O)C(O)C1O   \n",
       "\n",
       "                                                wyckoff  \\\n",
       "0       A13B2C12D6E2_aP70_2_13i_2i_12i_6i_2i:C-Cl-H-N-O   \n",
       "1         A13BC11DE3_oP232_60_13d_d_11d_d_3d:C-Cl-H-N-O   \n",
       "2                    A21B22C2_oP360_61_21c_22c_2c:C-H-O   \n",
       "3         AB11C18DE2_mP132_14_e_11e_18e_e_2e:Br-C-H-N-O   \n",
       "4         A17B28C4D3E_aP106_2_17i_28i_4i_3i_i:C-H-N-O-S   \n",
       "...                                                 ...   \n",
       "363498   A13B12C2D3E_mP124_14_13e_12e_2e_3e_e:C-H-N-O-S   \n",
       "363499            A6B11CD7_aP50_2_6i_ac10i_i_7i:C-H-N-O   \n",
       "363500                 A18B15C_mC544_9_72a_60a_4a:C-H-N   \n",
       "363501            A2B5CD2_oP120_29_6a_15a_3a_6a:C-H-N-O   \n",
       "363502                     AB2C_oP80_19_5a_10a_5a:C-H-O   \n",
       "\n",
       "                     prototype   pearson  \n",
       "0       A 13 B 2 C 12 D 6 E 2    a P 70   \n",
       "1           A 13 B C 11 D E 3   o P 232   \n",
       "2               A 21 B 22 C 2   o P 360   \n",
       "3           A B 11 C 18 D E 2   m P 132   \n",
       "4          A 17 B 28 C 4 D 3 E  a P 106   \n",
       "...                        ...       ...  \n",
       "363498     A 13 B 12 C 2 D 3 E  m P 124   \n",
       "363499         A 6 B 11 C D 7    a P 50   \n",
       "363500             A 18 B 15 C  m C 544   \n",
       "363501          A 2 B 5 C D 2   o P 120   \n",
       "363502                 A B 2 C   o P 80   \n",
       "\n",
       "[363503 rows x 5 columns]"
      ]
     },
     "execution_count": 11,
     "metadata": {},
     "output_type": "execute_result"
    }
   ],
   "source": [
    "from wren_code.utils import tokenize_prototype_label, tokenize_pearson_label\n",
    "import pandas as pd\n",
    "from tqdm import tqdm\n",
    "\n",
    "df_organic = pd.read_csv(\"csd_organic.csv\")\n",
    "\n",
    "tqdm.pandas()\n",
    "df_organic['prototype'] = df_organic['wyckoff'].progress_apply(tokenize_prototype_label)\n",
    "df_organic['pearson'] = df_organic['wyckoff'].progress_apply(tokenize_pearson_label)\n",
    "df_organic"
   ]
  },
  {
   "cell_type": "code",
   "execution_count": 12,
   "metadata": {},
   "outputs": [
    {
     "name": "stderr",
     "output_type": "stream",
     "text": [
      "<>:7: DeprecationWarning: invalid escape sequence \\[\n",
      "<>:7: DeprecationWarning: invalid escape sequence \\[\n",
      "<>:7: DeprecationWarning: invalid escape sequence \\[\n",
      "/var/folders/b1/zflg536s6rvg62mcvlc7dnnw0000gn/T/ipykernel_71862/3494110355.py:7: DeprecationWarning: invalid escape sequence \\[\n",
      "  pattern = \"(\\[[^\\]]+]|Br?|Cl?|N|O|S|P|F|I|b|c|n|o|s|p|\\(|\\)|\\.|=|#|-|\\+|\\\\\\\\|\\/|:|~|@|\\?|>|\\*|\\$|\\%[0-9]{2}|[0-9])\"\n",
      "100%|██████████| 361607/361607 [00:05<00:00, 62313.45it/s]\n",
      "/Users/williammccorkindale/miniconda3/envs/csd_env/lib/python3.7/site-packages/ipykernel_launcher.py:16: SettingWithCopyWarning: \n",
      "A value is trying to be set on a copy of a slice from a DataFrame.\n",
      "Try using .loc[row_indexer,col_indexer] = value instead\n",
      "\n",
      "See the caveats in the documentation: https://pandas.pydata.org/pandas-docs/stable/user_guide/indexing.html#returning-a-view-versus-a-copy\n",
      "  \n"
     ]
    }
   ],
   "source": [
    "import re\n",
    "\n",
    "def tokenize_smiles(smi):\n",
    "    \"\"\"\n",
    "    Tokenize a SMILES molecule or reaction \n",
    "    \"\"\"\n",
    "    pattern = \"(\\[[^\\]]+]|Br?|Cl?|N|O|S|P|F|I|b|c|n|o|s|p|\\(|\\)|\\.|=|#|-|\\+|\\\\\\\\|\\/|:|~|@|\\?|>|\\*|\\$|\\%[0-9]{2}|[0-9])\"\n",
    "\n",
    "    regex = re.compile(pattern)\n",
    "    tokens = [token for token in regex.findall(smi)]\n",
    "    smi_tokenized = ' '.join(tokens)\n",
    "    return smi_tokenized\n",
    "\n",
    "df_organic = df_organic.dropna()\n",
    "\n",
    "df_organic['smi_tokenized'] = df_organic['smiles'].progress_apply(tokenize_smiles)\n"
   ]
  },
  {
   "cell_type": "code",
   "execution_count": 13,
   "metadata": {},
   "outputs": [
    {
     "data": {
      "text/plain": [
       "3652"
      ]
     },
     "execution_count": 13,
     "metadata": {},
     "output_type": "execute_result"
    }
   ],
   "source": [
    "len(df_organic.pearson.unique())"
   ]
  },
  {
   "cell_type": "code",
   "execution_count": 14,
   "metadata": {},
   "outputs": [
    {
     "name": "stderr",
     "output_type": "stream",
     "text": [
      "/Users/williammccorkindale/miniconda3/envs/csd_env/lib/python3.7/site-packages/ipykernel_launcher.py:1: SettingWithCopyWarning: \n",
      "A value is trying to be set on a copy of a slice from a DataFrame.\n",
      "Try using .loc[row_indexer,col_indexer] = value instead\n",
      "\n",
      "See the caveats in the documentation: https://pandas.pydata.org/pandas-docs/stable/user_guide/indexing.html#returning-a-view-versus-a-copy\n",
      "  \"\"\"Entry point for launching an IPython kernel.\n"
     ]
    },
    {
     "data": {
      "text/html": [
       "<div>\n",
       "<style scoped>\n",
       "    .dataframe tbody tr th:only-of-type {\n",
       "        vertical-align: middle;\n",
       "    }\n",
       "\n",
       "    .dataframe tbody tr th {\n",
       "        vertical-align: top;\n",
       "    }\n",
       "\n",
       "    .dataframe thead th {\n",
       "        text-align: right;\n",
       "    }\n",
       "</style>\n",
       "<table border=\"1\" class=\"dataframe\">\n",
       "  <thead>\n",
       "    <tr style=\"text-align: right;\">\n",
       "      <th></th>\n",
       "      <th>identifier</th>\n",
       "      <th>smiles</th>\n",
       "      <th>wyckoff</th>\n",
       "      <th>prototype</th>\n",
       "      <th>pearson</th>\n",
       "      <th>smi_tokenized</th>\n",
       "      <th>tgt</th>\n",
       "    </tr>\n",
       "  </thead>\n",
       "  <tbody>\n",
       "    <tr>\n",
       "      <th>0</th>\n",
       "      <td>AABHTZ</td>\n",
       "      <td>CC(=O)NN1C=NN=C1N(N=Cc1c(Cl)cccc1Cl)C(C)=O</td>\n",
       "      <td>A13B2C12D6E2_aP70_2_13i_2i_12i_6i_2i:C-Cl-H-N-O</td>\n",
       "      <td>A 13 B 2 C 12 D 6 E 2</td>\n",
       "      <td>a P 70</td>\n",
       "      <td>C C ( = O ) N N 1 C = N N = C 1 N ( N = C c 1 ...</td>\n",
       "      <td>A 13 B 2 C 12 D 6 E 2 : a P 70</td>\n",
       "    </tr>\n",
       "    <tr>\n",
       "      <th>1</th>\n",
       "      <td>AACFAZ10</td>\n",
       "      <td>COC1=C(C(OC1=O)c1ccccc1Cl)C(C)=NN=C(C)C1=C(OC)...</td>\n",
       "      <td>A13BC11DE3_oP232_60_13d_d_11d_d_3d:C-Cl-H-N-O</td>\n",
       "      <td>A 13 B C 11 D E 3</td>\n",
       "      <td>o P 232</td>\n",
       "      <td>C O C 1 = C ( C ( O C 1 = O ) c 1 c c c c c 1 ...</td>\n",
       "      <td>A 13 B C 11 D E 3 : o P 232</td>\n",
       "    </tr>\n",
       "    <tr>\n",
       "      <th>2</th>\n",
       "      <td>AACMHX10</td>\n",
       "      <td>CC(=O)OC(=C1CCCCC1c1ccccc1)c1ccccc1</td>\n",
       "      <td>A21B22C2_oP360_61_21c_22c_2c:C-H-O</td>\n",
       "      <td>A 21 B 22 C 2</td>\n",
       "      <td>o P 360</td>\n",
       "      <td>C C ( = O ) O C ( = C 1 C C C C C 1 c 1 c c c ...</td>\n",
       "      <td>A 21 B 22 C 2 : o P 360</td>\n",
       "    </tr>\n",
       "    <tr>\n",
       "      <th>3</th>\n",
       "      <td>AADAMC</td>\n",
       "      <td>[Br-].[NH3+]C1(C2CC3CC(C2)CC1C3)C(O)=O</td>\n",
       "      <td>AB11C18DE2_mP132_14_e_11e_18e_e_2e:Br-C-H-N-O</td>\n",
       "      <td>A B 11 C 18 D E 2</td>\n",
       "      <td>m P 132</td>\n",
       "      <td>[Br-] . [NH3+] C 1 ( C 2 C C 3 C C ( C 2 ) C C...</td>\n",
       "      <td>A B 11 C 18 D E 2 : m P 132</td>\n",
       "    </tr>\n",
       "    <tr>\n",
       "      <th>4</th>\n",
       "      <td>AADMPY10</td>\n",
       "      <td>Cc1[nH+]c(N)nc(N)c1C12CC3CC(CC(C3)C1)C2.CCS(=O...</td>\n",
       "      <td>A17B28C4D3E_aP106_2_17i_28i_4i_3i_i:C-H-N-O-S</td>\n",
       "      <td>A 17 B 28 C 4 D 3 E</td>\n",
       "      <td>a P 106</td>\n",
       "      <td>C c 1 [nH+] c ( N ) n c ( N ) c 1 C 1 2 C C 3 ...</td>\n",
       "      <td>A 17 B 28 C 4 D 3 E: a P 106</td>\n",
       "    </tr>\n",
       "    <tr>\n",
       "      <th>...</th>\n",
       "      <td>...</td>\n",
       "      <td>...</td>\n",
       "      <td>...</td>\n",
       "      <td>...</td>\n",
       "      <td>...</td>\n",
       "      <td>...</td>\n",
       "      <td>...</td>\n",
       "    </tr>\n",
       "    <tr>\n",
       "      <th>363498</th>\n",
       "      <td>ZUWRIS01</td>\n",
       "      <td>Oc1ccccc1C=NNS(=O)(=O)c1ccccc1</td>\n",
       "      <td>A13B12C2D3E_mP124_14_13e_12e_2e_3e_e:C-H-N-O-S</td>\n",
       "      <td>A 13 B 12 C 2 D 3 E</td>\n",
       "      <td>m P 124</td>\n",
       "      <td>O c 1 c c c c c 1 C = N N S ( = O ) ( = O ) c ...</td>\n",
       "      <td>A 13 B 12 C 2 D 3 E: m P 124</td>\n",
       "    </tr>\n",
       "    <tr>\n",
       "      <th>363499</th>\n",
       "      <td>ZZZDTW01</td>\n",
       "      <td>OC(=O)CC(O)(CC(O)=O)C(=O)[O-].[NH4+]</td>\n",
       "      <td>A6B11CD7_aP50_2_6i_ac10i_i_7i:C-H-N-O</td>\n",
       "      <td>A 6 B 11 C D 7</td>\n",
       "      <td>a P 50</td>\n",
       "      <td>O C ( = O ) C C ( O ) ( C C ( O ) = O ) C ( = ...</td>\n",
       "      <td>A 6 B 11 C D 7 : a P 50</td>\n",
       "    </tr>\n",
       "    <tr>\n",
       "      <th>363500</th>\n",
       "      <td>ZZZJCQ04</td>\n",
       "      <td>c1ccc(cc1)N(c1ccccc1)c1ccccc1.c1ccc(cc1)N(c1cc...</td>\n",
       "      <td>A18B15C_mC544_9_72a_60a_4a:C-H-N</td>\n",
       "      <td>A 18 B 15 C</td>\n",
       "      <td>m C 544</td>\n",
       "      <td>c 1 c c c ( c c 1 ) N ( c 1 c c c c c 1 ) c 1 ...</td>\n",
       "      <td>A 18 B 15 C: m C 544</td>\n",
       "    </tr>\n",
       "    <tr>\n",
       "      <th>363501</th>\n",
       "      <td>ZZZPTQ01</td>\n",
       "      <td>[NH3+]CC(=O)NCC(=O)NCC(=O)[O-].O.O</td>\n",
       "      <td>A2B5CD2_oP120_29_6a_15a_3a_6a:C-H-N-O</td>\n",
       "      <td>A 2 B 5 C D 2</td>\n",
       "      <td>o P 120</td>\n",
       "      <td>[NH3+] C C ( = O ) N C C ( = O ) N C C ( = O )...</td>\n",
       "      <td>A 2 B 5 C D 2 : o P 120</td>\n",
       "    </tr>\n",
       "    <tr>\n",
       "      <th>363502</th>\n",
       "      <td>ZZZSEA03</td>\n",
       "      <td>OC1COC(O)C(O)C1O</td>\n",
       "      <td>AB2C_oP80_19_5a_10a_5a:C-H-O</td>\n",
       "      <td>A B 2 C</td>\n",
       "      <td>o P 80</td>\n",
       "      <td>O C 1 C O C ( O ) C ( O ) C 1 O</td>\n",
       "      <td>A B 2 C: o P 80</td>\n",
       "    </tr>\n",
       "  </tbody>\n",
       "</table>\n",
       "<p>361607 rows × 7 columns</p>\n",
       "</div>"
      ],
      "text/plain": [
       "       identifier                                             smiles  \\\n",
       "0          AABHTZ         CC(=O)NN1C=NN=C1N(N=Cc1c(Cl)cccc1Cl)C(C)=O   \n",
       "1        AACFAZ10  COC1=C(C(OC1=O)c1ccccc1Cl)C(C)=NN=C(C)C1=C(OC)...   \n",
       "2        AACMHX10                CC(=O)OC(=C1CCCCC1c1ccccc1)c1ccccc1   \n",
       "3          AADAMC             [Br-].[NH3+]C1(C2CC3CC(C2)CC1C3)C(O)=O   \n",
       "4        AADMPY10  Cc1[nH+]c(N)nc(N)c1C12CC3CC(CC(C3)C1)C2.CCS(=O...   \n",
       "...           ...                                                ...   \n",
       "363498   ZUWRIS01                     Oc1ccccc1C=NNS(=O)(=O)c1ccccc1   \n",
       "363499   ZZZDTW01               OC(=O)CC(O)(CC(O)=O)C(=O)[O-].[NH4+]   \n",
       "363500   ZZZJCQ04  c1ccc(cc1)N(c1ccccc1)c1ccccc1.c1ccc(cc1)N(c1cc...   \n",
       "363501   ZZZPTQ01                 [NH3+]CC(=O)NCC(=O)NCC(=O)[O-].O.O   \n",
       "363502   ZZZSEA03                                   OC1COC(O)C(O)C1O   \n",
       "\n",
       "                                                wyckoff  \\\n",
       "0       A13B2C12D6E2_aP70_2_13i_2i_12i_6i_2i:C-Cl-H-N-O   \n",
       "1         A13BC11DE3_oP232_60_13d_d_11d_d_3d:C-Cl-H-N-O   \n",
       "2                    A21B22C2_oP360_61_21c_22c_2c:C-H-O   \n",
       "3         AB11C18DE2_mP132_14_e_11e_18e_e_2e:Br-C-H-N-O   \n",
       "4         A17B28C4D3E_aP106_2_17i_28i_4i_3i_i:C-H-N-O-S   \n",
       "...                                                 ...   \n",
       "363498   A13B12C2D3E_mP124_14_13e_12e_2e_3e_e:C-H-N-O-S   \n",
       "363499            A6B11CD7_aP50_2_6i_ac10i_i_7i:C-H-N-O   \n",
       "363500                 A18B15C_mC544_9_72a_60a_4a:C-H-N   \n",
       "363501            A2B5CD2_oP120_29_6a_15a_3a_6a:C-H-N-O   \n",
       "363502                     AB2C_oP80_19_5a_10a_5a:C-H-O   \n",
       "\n",
       "                     prototype   pearson  \\\n",
       "0       A 13 B 2 C 12 D 6 E 2    a P 70    \n",
       "1           A 13 B C 11 D E 3   o P 232    \n",
       "2               A 21 B 22 C 2   o P 360    \n",
       "3           A B 11 C 18 D E 2   m P 132    \n",
       "4          A 17 B 28 C 4 D 3 E  a P 106    \n",
       "...                        ...       ...   \n",
       "363498     A 13 B 12 C 2 D 3 E  m P 124    \n",
       "363499         A 6 B 11 C D 7    a P 50    \n",
       "363500             A 18 B 15 C  m C 544    \n",
       "363501          A 2 B 5 C D 2   o P 120    \n",
       "363502                 A B 2 C   o P 80    \n",
       "\n",
       "                                            smi_tokenized  \\\n",
       "0       C C ( = O ) N N 1 C = N N = C 1 N ( N = C c 1 ...   \n",
       "1       C O C 1 = C ( C ( O C 1 = O ) c 1 c c c c c 1 ...   \n",
       "2       C C ( = O ) O C ( = C 1 C C C C C 1 c 1 c c c ...   \n",
       "3       [Br-] . [NH3+] C 1 ( C 2 C C 3 C C ( C 2 ) C C...   \n",
       "4       C c 1 [nH+] c ( N ) n c ( N ) c 1 C 1 2 C C 3 ...   \n",
       "...                                                   ...   \n",
       "363498  O c 1 c c c c c 1 C = N N S ( = O ) ( = O ) c ...   \n",
       "363499  O C ( = O ) C C ( O ) ( C C ( O ) = O ) C ( = ...   \n",
       "363500  c 1 c c c ( c c 1 ) N ( c 1 c c c c c 1 ) c 1 ...   \n",
       "363501  [NH3+] C C ( = O ) N C C ( = O ) N C C ( = O )...   \n",
       "363502                    O C 1 C O C ( O ) C ( O ) C 1 O   \n",
       "\n",
       "                                    tgt  \n",
       "0       A 13 B 2 C 12 D 6 E 2 : a P 70   \n",
       "1          A 13 B C 11 D E 3 : o P 232   \n",
       "2              A 21 B 22 C 2 : o P 360   \n",
       "3          A B 11 C 18 D E 2 : m P 132   \n",
       "4         A 17 B 28 C 4 D 3 E: a P 106   \n",
       "...                                 ...  \n",
       "363498    A 13 B 12 C 2 D 3 E: m P 124   \n",
       "363499         A 6 B 11 C D 7 : a P 50   \n",
       "363500            A 18 B 15 C: m C 544   \n",
       "363501         A 2 B 5 C D 2 : o P 120   \n",
       "363502                 A B 2 C: o P 80   \n",
       "\n",
       "[361607 rows x 7 columns]"
      ]
     },
     "execution_count": 14,
     "metadata": {},
     "output_type": "execute_result"
    }
   ],
   "source": [
    "df_organic['tgt'] = df_organic['prototype'] + ': ' + df_organic['pearson']\n",
    "df_organic"
   ]
  },
  {
   "cell_type": "code",
   "execution_count": 15,
   "metadata": {},
   "outputs": [],
   "source": [
    "df_organic = df_organic.drop_duplicates(subset=['smiles'])\n",
    "df_train_and_val = df_organic.sample(frac=0.9, random_state=42)\n",
    "df_test = df_organic.drop(df_train_and_val.index)\n",
    "\n",
    "df_train = df_train_and_val.sample(frac=0.9, random_state=42)\n",
    "df_valid = df_train_and_val.drop(df_train.index)\n",
    "\n",
    "data_path = '/Users/williammccorkindale/ml_physics/smi2wyck/notebooks/data'\n",
    "df_train.smi_tokenized.to_csv(f'{data_path}/src-train.csv', index=False, header=False)\n",
    "df_train.tgt.to_csv(f'{data_path}/tgt-train.csv', index=False, header=False)\n",
    "\n",
    "df_valid.smi_tokenized.to_csv(f'{data_path}/src-valid.csv', index=False, header=False)\n",
    "df_valid.tgt.to_csv(f'{data_path}/tgt-valid.csv', index=False, header=False)\n",
    "\n",
    "df_test.smi_tokenized.to_csv(f'{data_path}/src-test.csv', index=False, header=False)\n",
    "df_test.tgt.to_csv(f'{data_path}/tgt-test.csv', index=False, header=False)\n"
   ]
  }
 ],
 "metadata": {
  "interpreter": {
   "hash": "fade0864c9a24203de3ed0faf9c71c898f3ed861f9409156898a7d5373bdd391"
  },
  "kernelspec": {
   "display_name": "Python 3.7.13 ('csd_env')",
   "language": "python",
   "name": "python3"
  },
  "language_info": {
   "codemirror_mode": {
    "name": "ipython",
    "version": 3
   },
   "file_extension": ".py",
   "mimetype": "text/x-python",
   "name": "python",
   "nbconvert_exporter": "python",
   "pygments_lexer": "ipython3",
   "version": "3.7.13"
  },
  "orig_nbformat": 4
 },
 "nbformat": 4,
 "nbformat_minor": 2
}
