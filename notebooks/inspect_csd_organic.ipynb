{
 "cells": [
  {
   "cell_type": "markdown",
   "metadata": {},
   "source": [
    "# Analysing CCSD Organic Molecules"
   ]
  },
  {
   "cell_type": "markdown",
   "metadata": {},
   "source": [
    "Calculate parameters of interest"
   ]
  },
  {
   "cell_type": "code",
   "execution_count": null,
   "metadata": {},
   "outputs": [],
   "source": [
    "import pandas as pd\n",
    "from wren_code.utils import count_wyks, count_params, count_distinct_wyckoff_letters, return_spacegroup_number\n",
    "import pandas as pd\n",
    "from tqdm import tqdm\n",
    "\n",
    "df_organic = pd.read_csv(\"csd_organic.csv\")\n",
    "\n",
    "tqdm.pandas()\n",
    "df_organic['n_atoms'] = df_organic['wyckoff'].progress_apply(count_wyks)\n",
    "df_organic['n_wyk'] = df_organic['wyckoff'].progress_apply(count_distinct_wyckoff_letters)\n",
    "df_organic['spg'] = df_organic['wyckoff'].progress_apply(return_spacegroup_number)\n",
    "df_organic['n_param'] = df_organic['wyckoff'].progress_apply(count_params)\n"
   ]
  },
  {
   "cell_type": "code",
   "execution_count": null,
   "metadata": {},
   "outputs": [],
   "source": [
    "from ccdc import io, utilities\n",
    "\n",
    "csd_reader = io.EntryReader('/Applications/CCDC/CSD_2022/DATA/CSD_543/as543be_ASER.sqlite')\n",
    "# entry = csd_reader.entry('CAXZEG')\n",
    "# entry = csd_reader.entry('ADAGES')\n",
    "\n",
    "entry_name = 'WOPTAY'\n",
    "entry = csd_reader.entry(entry_name)\n",
    "crystal = entry.crystal\n",
    "\n",
    "print(f'SMILES: {crystal.molecule.smiles}')\n",
    "print(f'Crystal System: {crystal.crystal_system}')\n",
    "print(f'Spacegroup Symbol: {crystal.spacegroup_symbol}')\n",
    "print(f'Spacegroup Number: {crystal.spacegroup_number_and_setting}')\n",
    "print(f'Has disorder: {crystal.has_disorder}')\n",
    "print(f'Disorder details: {entry.disorder_details}')\n",
    "\n",
    "print('\\n'.join('%-17s %s' % (op, utilities.print_set(crystal.atoms_on_special_positions(op))) for op in crystal.symmetry_operators))"
   ]
  },
  {
   "cell_type": "code",
   "execution_count": null,
   "metadata": {},
   "outputs": [],
   "source": [
    "smiles_groups = df_organic.groupby('smiles')\n",
    "print(df_organic.query('smiles.duplicated()').sort_values(by='smiles').dropna())"
   ]
  },
  {
   "cell_type": "code",
   "execution_count": null,
   "metadata": {},
   "outputs": [],
   "source": [
    "df_organic.query('identifier==\"AFUHAN\"').wyckoff.values"
   ]
  },
  {
   "cell_type": "code",
   "execution_count": null,
   "metadata": {},
   "outputs": [],
   "source": [
    "print(len(df_organic.wyckoff.unique()))"
   ]
  },
  {
   "cell_type": "code",
   "execution_count": null,
   "metadata": {},
   "outputs": [],
   "source": [
    "df_organic.query('n_wyk > 7').head(n=10)"
   ]
  },
  {
   "cell_type": "markdown",
   "metadata": {},
   "source": [
    "Number of wyckoff letters"
   ]
  },
  {
   "cell_type": "code",
   "execution_count": null,
   "metadata": {},
   "outputs": [],
   "source": [
    "df_organic.n_wyk.value_counts().plot(kind='bar', log=True)"
   ]
  },
  {
   "cell_type": "code",
   "execution_count": null,
   "metadata": {},
   "outputs": [],
   "source": [
    "df_organic.spg.value_counts().plot(kind='bar', log=True)"
   ]
  },
  {
   "cell_type": "code",
   "execution_count": null,
   "metadata": {},
   "outputs": [],
   "source": [
    "# df_organic.spg.astype(int).plot(kind='bar')"
   ]
  },
  {
   "cell_type": "code",
   "execution_count": null,
   "metadata": {},
   "outputs": [],
   "source": [
    "df_organic.n_atoms.value_counts().plot(kind='hist')"
   ]
  },
  {
   "cell_type": "markdown",
   "metadata": {},
   "source": [
    "Tokenize SMILES and wyckoff rep"
   ]
  },
  {
   "cell_type": "code",
   "execution_count": null,
   "metadata": {},
   "outputs": [],
   "source": [
    "from wren_code.utils import tokenize_prototype_label, tokenize_pearson_label\n",
    "import pandas as pd\n",
    "from tqdm import tqdm\n",
    "\n",
    "df_organic = pd.read_csv(\"csd_organic.csv\")\n",
    "\n",
    "tqdm.pandas()\n",
    "df_organic['prototype'] = df_organic['wyckoff'].progress_apply(tokenize_prototype_label)\n",
    "df_organic['pearson'] = df_organic['wyckoff'].progress_apply(tokenize_pearson_label)\n",
    "df_organic"
   ]
  },
  {
   "cell_type": "code",
   "execution_count": null,
   "metadata": {},
   "outputs": [],
   "source": [
    "import re\n",
    "\n",
    "def tokenize_smiles(smi):\n",
    "    \"\"\"\n",
    "    Tokenize a SMILES molecule or reaction \n",
    "    \"\"\"\n",
    "    pattern = \"(\\[[^\\]]+]|Br?|Cl?|N|O|S|P|F|I|b|c|n|o|s|p|\\(|\\)|\\.|=|#|-|\\+|\\\\\\\\|\\/|:|~|@|\\?|>|\\*|\\$|\\%[0-9]{2}|[0-9])\"\n",
    "\n",
    "    regex = re.compile(pattern)\n",
    "    tokens = [token for token in regex.findall(smi)]\n",
    "    smi_tokenized = ' '.join(tokens)\n",
    "    return smi_tokenized\n",
    "\n",
    "df_organic = df_organic.dropna()\n",
    "\n",
    "df_organic['smi_tokenized'] = df_organic['smiles'].progress_apply(tokenize_smiles)\n"
   ]
  },
  {
   "cell_type": "code",
   "execution_count": null,
   "metadata": {},
   "outputs": [],
   "source": [
    "len(df_organic.pearson.unique())"
   ]
  },
  {
   "cell_type": "code",
   "execution_count": null,
   "metadata": {},
   "outputs": [],
   "source": [
    "df_organic['tgt'] = df_organic['prototype'] + ': ' + df_organic['pearson']\n",
    "df_organic['tgt'] = [re.sub('([A-Z]):', r'\\1 :', tgt) for tgt in df_organic['tgt']]\n",
    "df_organic"
   ]
  },
  {
   "cell_type": "code",
   "execution_count": null,
   "metadata": {},
   "outputs": [],
   "source": [
    "df_organic = df_organic.drop_duplicates(subset=['smiles'])\n",
    "df_train_and_val = df_organic.sample(frac=0.9, random_state=42)\n",
    "df_test = df_organic.drop(df_train_and_val.index)\n",
    "\n",
    "df_train = df_train_and_val.sample(frac=0.9, random_state=42)\n",
    "df_valid = df_train_and_val.drop(df_train.index)\n",
    "\n",
    "data_path = '/Users/williammccorkindale/ml_physics/smi2wyck/notebooks/data'\n",
    "df_train.smi_tokenized.to_csv(f'{data_path}/src-train.csv', index=False, header=False)\n",
    "df_train.tgt.to_csv(f'{data_path}/tgt-train.csv', index=False, header=False)\n",
    "\n",
    "df_valid.smi_tokenized.to_csv(f'{data_path}/src-valid.csv', index=False, header=False)\n",
    "df_valid.tgt.to_csv(f'{data_path}/tgt-valid.csv', index=False, header=False)\n",
    "\n",
    "df_test.smi_tokenized.to_csv(f'{data_path}/src-test.csv', index=False, header=False)\n",
    "df_test.tgt.to_csv(f'{data_path}/tgt-test.csv', index=False, header=False)\n"
   ]
  }
 ],
 "metadata": {
  "interpreter": {
   "hash": "fade0864c9a24203de3ed0faf9c71c898f3ed861f9409156898a7d5373bdd391"
  },
  "kernelspec": {
   "display_name": "Python 3.7.13 ('csd_env')",
   "language": "python",
   "name": "python3"
  },
  "language_info": {
   "codemirror_mode": {
    "name": "ipython",
    "version": 3
   },
   "file_extension": ".py",
   "mimetype": "text/x-python",
   "name": "python",
   "nbconvert_exporter": "python",
   "pygments_lexer": "ipython3",
   "version": "3.7.13"
  },
  "orig_nbformat": 4
 },
 "nbformat": 4,
 "nbformat_minor": 2
}
