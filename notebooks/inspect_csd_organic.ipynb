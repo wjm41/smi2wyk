{
   "cells": [
      {
         "cell_type": "markdown",
         "metadata": {},
         "source": [
            "# Analysing CCSD Organic Molecules"
         ]
      },
      {
         "cell_type": "markdown",
         "metadata": {},
         "source": [
            "Calculate parameters of interest"
         ]
      },
      {
         "cell_type": "code",
         "execution_count": null,
         "metadata": {},
         "outputs": [],
         "source": [
            "import pandas as pd\n",
            "from wren_code.utils import count_wyks, count_params, count_distinct_wyckoff_letters, return_spacegroup_number\n",
            "import pandas as pd\n",
            "from tqdm import tqdm\n",
            "\n",
            "df_organic = pd.read_csv(\"csd_organic.csv\")\n",
            "\n",
            "tqdm.pandas()\n",
            "df_organic['n_atoms'] = df_organic['wyckoff'].progress_apply(count_wyks)\n",
            "df_organic['n_wyk'] = df_organic['wyckoff'].progress_apply(count_distinct_wyckoff_letters)\n",
            "df_organic['spg'] = df_organic['wyckoff'].progress_apply(return_spacegroup_number)\n",
            "df_organic['n_param'] = df_organic['wyckoff'].progress_apply(count_params)\n"
         ]
      },
      {
         "cell_type": "code",
         "execution_count": null,
         "metadata": {},
         "outputs": [],
         "source": [
            "from ccdc import io, utilities\n",
            "\n",
            "csd_reader = io.EntryReader('/Applications/CCDC/CSD_2022/DATA/CSD_543/as543be_ASER.sqlite')\n",
            "# entry = csd_reader.entry('CAXZEG')\n",
            "# entry = csd_reader.entry('ADAGES')\n",
            "\n",
            "entry_name = 'WOPTAY'\n",
            "entry = csd_reader.entry(entry_name)\n",
            "crystal = entry.crystal\n",
            "\n",
            "print(f'SMILES: {crystal.molecule.smiles}')\n",
            "print(f'Crystal System: {crystal.crystal_system}')\n",
            "print(f'Spacegroup Symbol: {crystal.spacegroup_symbol}')\n",
            "print(f'Spacegroup Number: {crystal.spacegroup_number_and_setting}')\n",
            "print(f'Has disorder: {crystal.has_disorder}')\n",
            "print(f'Disorder details: {entry.disorder_details}')\n",
            "\n",
            "print('\\n'.join('%-17s %s' % (op, utilities.print_set(crystal.atoms_on_special_positions(op))) for op in crystal.symmetry_operators))"
         ]
      },
      {
         "cell_type": "code",
         "execution_count": null,
         "metadata": {},
         "outputs": [],
         "source": [
            "smiles_groups = df_organic.groupby('smiles')\n",
            "print(df_organic.query('smiles.duplicated()').sort_values(by='smiles').dropna())"
         ]
      },
      {
         "cell_type": "code",
         "execution_count": null,
         "metadata": {},
         "outputs": [],
         "source": [
            "df_organic.query('identifier==\"AFUHAN\"').wyckoff.values"
         ]
      },
      {
         "cell_type": "code",
         "execution_count": null,
         "metadata": {},
         "outputs": [],
         "source": [
            "print(len(df_organic.wyckoff.unique()))"
         ]
      },
      {
         "cell_type": "code",
         "execution_count": null,
         "metadata": {},
         "outputs": [],
         "source": [
            "df_organic.query('n_wyk > 7').head(n=10)"
         ]
      },
      {
         "cell_type": "markdown",
         "metadata": {},
         "source": [
            "Number of wyckoff letters"
         ]
      },
      {
         "cell_type": "code",
         "execution_count": null,
         "metadata": {},
         "outputs": [],
         "source": [
            "df_organic.n_wyk.value_counts().plot(kind='bar', log=True)"
         ]
      },
      {
         "cell_type": "code",
         "execution_count": null,
         "metadata": {},
         "outputs": [],
         "source": [
            "df_organic.spg.value_counts().plot(kind='bar', log=True)"
         ]
      },
      {
         "cell_type": "code",
         "execution_count": null,
         "metadata": {},
         "outputs": [],
         "source": [
            "# df_organic.spg.astype(int).plot(kind='bar')"
         ]
      },
      {
         "cell_type": "code",
         "execution_count": null,
         "metadata": {},
         "outputs": [],
         "source": [
            "df_organic.n_atoms.value_counts().plot(kind='hist')"
         ]
      },
      {
         "cell_type": "markdown",
         "metadata": {},
         "source": [
            "Tokenize SMILES and wyckoff rep"
         ]
      },
      {
         "cell_type": "code",
         "execution_count": null,
         "metadata": {},
         "outputs": [],
         "source": [
            "from wren_code.utils import tokenize_prototype_label, tokenize_pearson_label\n",
            "import pandas as pd\n",
            "from tqdm import tqdm\n",
            "\n",
            "df_organic = pd.read_csv(\"csd_organic.csv\")\n",
            "\n",
            "tqdm.pandas()\n",
            "df_organic['prototype'] = df_organic['wyckoff'].progress_apply(tokenize_prototype_label)\n",
            "df_organic['pearson'] = df_organic['wyckoff'].progress_apply(tokenize_pearson_label)\n",
            "df_organic"
         ]
      },
      {
         "cell_type": "code",
         "execution_count": null,
         "metadata": {},
         "outputs": [],
         "source": [
            "import re\n",
            "\n",
            "def tokenize_smiles(smi):\n",
            "    \"\"\"\n",
            "    Tokenize a SMILES molecule or reaction \n",
            "    \"\"\"\n",
            "    pattern = \"(\\[[^\\]]+]|Br?|Cl?|N|O|S|P|F|I|b|c|n|o|s|p|\\(|\\)|\\.|=|#|-|\\+|\\\\\\\\|\\/|:|~|@|\\?|>|\\*|\\$|\\%[0-9]{2}|[0-9])\"\n",
            "\n",
            "    regex = re.compile(pattern)\n",
            "    tokens = [token for token in regex.findall(smi)]\n",
            "    smi_tokenized = ' '.join(tokens)\n",
            "    return smi_tokenized\n",
            "\n",
            "df_organic = df_organic.dropna()\n",
            "\n",
            "df_organic['smi_tokenized'] = df_organic['smiles'].progress_apply(tokenize_smiles)\n"
         ]
      },
      {
         "cell_type": "code",
         "execution_count": null,
         "metadata": {},
         "outputs": [],
         "source": [
            "len(df_organic.pearson.unique())"
         ]
      },
      {
         "cell_type": "code",
         "execution_count": 16,
         "metadata": {},
         "outputs": [
            {
               "name": "stderr",
               "output_type": "stream",
               "text": [
                  "/Users/williammccorkindale/miniconda3/envs/csd_env/lib/python3.7/site-packages/ipykernel_launcher.py:1: SettingWithCopyWarning: \n",
                  "A value is trying to be set on a copy of a slice from a DataFrame.\n",
                  "Try using .loc[row_indexer,col_indexer] = value instead\n",
                  "\n",
                  "See the caveats in the documentation: https://pandas.pydata.org/pandas-docs/stable/user_guide/indexing.html#returning-a-view-versus-a-copy\n",
                  "  \"\"\"Entry point for launching an IPython kernel.\n",
                  "/Users/williammccorkindale/miniconda3/envs/csd_env/lib/python3.7/site-packages/ipykernel_launcher.py:2: SettingWithCopyWarning: \n",
                  "A value is trying to be set on a copy of a slice from a DataFrame.\n",
                  "Try using .loc[row_indexer,col_indexer] = value instead\n",
                  "\n",
                  "See the caveats in the documentation: https://pandas.pydata.org/pandas-docs/stable/user_guide/indexing.html#returning-a-view-versus-a-copy\n",
                  "  \n"
               ]
            },
            {
               "data": {
                  "text/html": [
                     "<div>\n",
                     "<style scoped>\n",
                     "    .dataframe tbody tr th:only-of-type {\n",
                     "        vertical-align: middle;\n",
                     "    }\n",
                     "\n",
                     "    .dataframe tbody tr th {\n",
                     "        vertical-align: top;\n",
                     "    }\n",
                     "\n",
                     "    .dataframe thead th {\n",
                     "        text-align: right;\n",
                     "    }\n",
                     "</style>\n",
                     "<table border=\"1\" class=\"dataframe\">\n",
                     "  <thead>\n",
                     "    <tr style=\"text-align: right;\">\n",
                     "      <th></th>\n",
                     "      <th>identifier</th>\n",
                     "      <th>smiles</th>\n",
                     "      <th>wyckoff</th>\n",
                     "      <th>prototype</th>\n",
                     "      <th>pearson</th>\n",
                     "      <th>smi_tokenized</th>\n",
                     "      <th>tgt</th>\n",
                     "    </tr>\n",
                     "  </thead>\n",
                     "  <tbody>\n",
                     "    <tr>\n",
                     "      <th>0</th>\n",
                     "      <td>AABHTZ</td>\n",
                     "      <td>CC(=O)NN1C=NN=C1N(N=Cc1c(Cl)cccc1Cl)C(C)=O</td>\n",
                     "      <td>A13B2C12D6E2_aP70_2_13i_2i_12i_6i_2i:C-Cl-H-N-O</td>\n",
                     "      <td>A 13 B 2 C 12 D 6 E 2</td>\n",
                     "      <td>a P 70</td>\n",
                     "      <td>C C ( = O ) N N 1 C = N N = C 1 N ( N = C c 1 ...</td>\n",
                     "      <td>A 13 B 2 C 12 D 6 E 2 : a P 70</td>\n",
                     "    </tr>\n",
                     "    <tr>\n",
                     "      <th>1</th>\n",
                     "      <td>AACFAZ10</td>\n",
                     "      <td>COC1=C(C(OC1=O)c1ccccc1Cl)C(C)=NN=C(C)C1=C(OC)...</td>\n",
                     "      <td>A13BC11DE3_oP232_60_13d_d_11d_d_3d:C-Cl-H-N-O</td>\n",
                     "      <td>A 13 B C 11 D E 3</td>\n",
                     "      <td>o P 232</td>\n",
                     "      <td>C O C 1 = C ( C ( O C 1 = O ) c 1 c c c c c 1 ...</td>\n",
                     "      <td>A 13 B C 11 D E 3 : o P 232</td>\n",
                     "    </tr>\n",
                     "    <tr>\n",
                     "      <th>2</th>\n",
                     "      <td>AACMHX10</td>\n",
                     "      <td>CC(=O)OC(=C1CCCCC1c1ccccc1)c1ccccc1</td>\n",
                     "      <td>A21B22C2_oP360_61_21c_22c_2c:C-H-O</td>\n",
                     "      <td>A 21 B 22 C 2</td>\n",
                     "      <td>o P 360</td>\n",
                     "      <td>C C ( = O ) O C ( = C 1 C C C C C 1 c 1 c c c ...</td>\n",
                     "      <td>A 21 B 22 C 2 : o P 360</td>\n",
                     "    </tr>\n",
                     "    <tr>\n",
                     "      <th>3</th>\n",
                     "      <td>AADAMC</td>\n",
                     "      <td>[Br-].[NH3+]C1(C2CC3CC(C2)CC1C3)C(O)=O</td>\n",
                     "      <td>AB11C18DE2_mP132_14_e_11e_18e_e_2e:Br-C-H-N-O</td>\n",
                     "      <td>A B 11 C 18 D E 2</td>\n",
                     "      <td>m P 132</td>\n",
                     "      <td>[Br-] . [NH3+] C 1 ( C 2 C C 3 C C ( C 2 ) C C...</td>\n",
                     "      <td>A B 11 C 18 D E 2 : m P 132</td>\n",
                     "    </tr>\n",
                     "    <tr>\n",
                     "      <th>4</th>\n",
                     "      <td>AADMPY10</td>\n",
                     "      <td>Cc1[nH+]c(N)nc(N)c1C12CC3CC(CC(C3)C1)C2.CCS(=O...</td>\n",
                     "      <td>A17B28C4D3E_aP106_2_17i_28i_4i_3i_i:C-H-N-O-S</td>\n",
                     "      <td>A 17 B 28 C 4 D 3 E</td>\n",
                     "      <td>a P 106</td>\n",
                     "      <td>C c 1 [nH+] c ( N ) n c ( N ) c 1 C 1 2 C C 3 ...</td>\n",
                     "      <td>A 17 B 28 C 4 D 3 E : a P 106</td>\n",
                     "    </tr>\n",
                     "    <tr>\n",
                     "      <th>...</th>\n",
                     "      <td>...</td>\n",
                     "      <td>...</td>\n",
                     "      <td>...</td>\n",
                     "      <td>...</td>\n",
                     "      <td>...</td>\n",
                     "      <td>...</td>\n",
                     "      <td>...</td>\n",
                     "    </tr>\n",
                     "    <tr>\n",
                     "      <th>363489</th>\n",
                     "      <td>ZOYFUR</td>\n",
                     "      <td>CC#N.[BH]1234[BH]567[BH]891[BH]1%102[BH]2%113[...</td>\n",
                     "      <td>A6B2C15D3_mC208_12_4i4j_2j_4i13j_3j:B-C-H-N</td>\n",
                     "      <td>A 6 B 2 C 15 D 3</td>\n",
                     "      <td>m C 208</td>\n",
                     "      <td>C C # N . [BH] 1 2 3 4 [BH] 5 6 7 [BH] 8 9 1 [...</td>\n",
                     "      <td>A 6 B 2 C 15 D 3 : m C 208</td>\n",
                     "    </tr>\n",
                     "    <tr>\n",
                     "      <th>363490</th>\n",
                     "      <td>ZOYGOM</td>\n",
                     "      <td>CC(C)=[NH+]N=C(C)C.[BH]1234[BH]567[BH]891[BH]1...</td>\n",
                     "      <td>A6B6C19D2_aP66_2_6i_6i_19i_2i:B-C-H-N</td>\n",
                     "      <td>A 6 B 6 C 19 D 2</td>\n",
                     "      <td>a P 66</td>\n",
                     "      <td>C C ( C ) = [NH+] N = C ( C ) C . [BH] 1 2 3 4...</td>\n",
                     "      <td>A 6 B 6 C 19 D 2 : a P 66</td>\n",
                     "    </tr>\n",
                     "    <tr>\n",
                     "      <th>363491</th>\n",
                     "      <td>ZOYGUS</td>\n",
                     "      <td>CO.[NH3+]N.[NH3+]N.[NH3+]N.[NH3+]N.CO.[BH]1234...</td>\n",
                     "      <td>A12BC26D4E_oP352_29_24a_2a_52a_8a_2a:B-C-H-N-O</td>\n",
                     "      <td>A 12 B C 26 D 4 E</td>\n",
                     "      <td>o P 352</td>\n",
                     "      <td>C O . [NH3+] N . [NH3+] N . [NH3+] N . [NH3+] ...</td>\n",
                     "      <td>A 12 B C 26 D 4 E : o P 352</td>\n",
                     "    </tr>\n",
                     "    <tr>\n",
                     "      <th>363499</th>\n",
                     "      <td>ZZZDTW01</td>\n",
                     "      <td>OC(=O)CC(O)(CC(O)=O)C(=O)[O-].[NH4+]</td>\n",
                     "      <td>A6B11CD7_aP50_2_6i_ac10i_i_7i:C-H-N-O</td>\n",
                     "      <td>A 6 B 11 C D 7</td>\n",
                     "      <td>a P 50</td>\n",
                     "      <td>O C ( = O ) C C ( O ) ( C C ( O ) = O ) C ( = ...</td>\n",
                     "      <td>A 6 B 11 C D 7 : a P 50</td>\n",
                     "    </tr>\n",
                     "    <tr>\n",
                     "      <th>363501</th>\n",
                     "      <td>ZZZPTQ01</td>\n",
                     "      <td>[NH3+]CC(=O)NCC(=O)NCC(=O)[O-].O.O</td>\n",
                     "      <td>A2B5CD2_oP120_29_6a_15a_3a_6a:C-H-N-O</td>\n",
                     "      <td>A 2 B 5 C D 2</td>\n",
                     "      <td>o P 120</td>\n",
                     "      <td>[NH3+] C C ( = O ) N C C ( = O ) N C C ( = O )...</td>\n",
                     "      <td>A 2 B 5 C D 2 : o P 120</td>\n",
                     "    </tr>\n",
                     "  </tbody>\n",
                     "</table>\n",
                     "<p>332680 rows × 7 columns</p>\n",
                     "</div>"
                  ],
                  "text/plain": [
                     "       identifier                                             smiles  \\\n",
                     "0          AABHTZ         CC(=O)NN1C=NN=C1N(N=Cc1c(Cl)cccc1Cl)C(C)=O   \n",
                     "1        AACFAZ10  COC1=C(C(OC1=O)c1ccccc1Cl)C(C)=NN=C(C)C1=C(OC)...   \n",
                     "2        AACMHX10                CC(=O)OC(=C1CCCCC1c1ccccc1)c1ccccc1   \n",
                     "3          AADAMC             [Br-].[NH3+]C1(C2CC3CC(C2)CC1C3)C(O)=O   \n",
                     "4        AADMPY10  Cc1[nH+]c(N)nc(N)c1C12CC3CC(CC(C3)C1)C2.CCS(=O...   \n",
                     "...           ...                                                ...   \n",
                     "363489     ZOYFUR  CC#N.[BH]1234[BH]567[BH]891[BH]1%102[BH]2%113[...   \n",
                     "363490     ZOYGOM  CC(C)=[NH+]N=C(C)C.[BH]1234[BH]567[BH]891[BH]1...   \n",
                     "363491     ZOYGUS  CO.[NH3+]N.[NH3+]N.[NH3+]N.[NH3+]N.CO.[BH]1234...   \n",
                     "363499   ZZZDTW01               OC(=O)CC(O)(CC(O)=O)C(=O)[O-].[NH4+]   \n",
                     "363501   ZZZPTQ01                 [NH3+]CC(=O)NCC(=O)NCC(=O)[O-].O.O   \n",
                     "\n",
                     "                                                wyckoff  \\\n",
                     "0       A13B2C12D6E2_aP70_2_13i_2i_12i_6i_2i:C-Cl-H-N-O   \n",
                     "1         A13BC11DE3_oP232_60_13d_d_11d_d_3d:C-Cl-H-N-O   \n",
                     "2                    A21B22C2_oP360_61_21c_22c_2c:C-H-O   \n",
                     "3         AB11C18DE2_mP132_14_e_11e_18e_e_2e:Br-C-H-N-O   \n",
                     "4         A17B28C4D3E_aP106_2_17i_28i_4i_3i_i:C-H-N-O-S   \n",
                     "...                                                 ...   \n",
                     "363489      A6B2C15D3_mC208_12_4i4j_2j_4i13j_3j:B-C-H-N   \n",
                     "363490            A6B6C19D2_aP66_2_6i_6i_19i_2i:B-C-H-N   \n",
                     "363491   A12BC26D4E_oP352_29_24a_2a_52a_8a_2a:B-C-H-N-O   \n",
                     "363499            A6B11CD7_aP50_2_6i_ac10i_i_7i:C-H-N-O   \n",
                     "363501            A2B5CD2_oP120_29_6a_15a_3a_6a:C-H-N-O   \n",
                     "\n",
                     "                     prototype   pearson  \\\n",
                     "0       A 13 B 2 C 12 D 6 E 2    a P 70    \n",
                     "1           A 13 B C 11 D E 3   o P 232    \n",
                     "2               A 21 B 22 C 2   o P 360    \n",
                     "3           A B 11 C 18 D E 2   m P 132    \n",
                     "4          A 17 B 28 C 4 D 3 E  a P 106    \n",
                     "...                        ...       ...   \n",
                     "363489       A 6 B 2 C 15 D 3   m C 208    \n",
                     "363490       A 6 B 6 C 19 D 2    a P 66    \n",
                     "363491       A 12 B C 26 D 4 E  o P 352    \n",
                     "363499         A 6 B 11 C D 7    a P 50    \n",
                     "363501          A 2 B 5 C D 2   o P 120    \n",
                     "\n",
                     "                                            smi_tokenized  \\\n",
                     "0       C C ( = O ) N N 1 C = N N = C 1 N ( N = C c 1 ...   \n",
                     "1       C O C 1 = C ( C ( O C 1 = O ) c 1 c c c c c 1 ...   \n",
                     "2       C C ( = O ) O C ( = C 1 C C C C C 1 c 1 c c c ...   \n",
                     "3       [Br-] . [NH3+] C 1 ( C 2 C C 3 C C ( C 2 ) C C...   \n",
                     "4       C c 1 [nH+] c ( N ) n c ( N ) c 1 C 1 2 C C 3 ...   \n",
                     "...                                                   ...   \n",
                     "363489  C C # N . [BH] 1 2 3 4 [BH] 5 6 7 [BH] 8 9 1 [...   \n",
                     "363490  C C ( C ) = [NH+] N = C ( C ) C . [BH] 1 2 3 4...   \n",
                     "363491  C O . [NH3+] N . [NH3+] N . [NH3+] N . [NH3+] ...   \n",
                     "363499  O C ( = O ) C C ( O ) ( C C ( O ) = O ) C ( = ...   \n",
                     "363501  [NH3+] C C ( = O ) N C C ( = O ) N C C ( = O )...   \n",
                     "\n",
                     "                                    tgt  \n",
                     "0       A 13 B 2 C 12 D 6 E 2 : a P 70   \n",
                     "1          A 13 B C 11 D E 3 : o P 232   \n",
                     "2              A 21 B 22 C 2 : o P 360   \n",
                     "3          A B 11 C 18 D E 2 : m P 132   \n",
                     "4        A 17 B 28 C 4 D 3 E : a P 106   \n",
                     "...                                 ...  \n",
                     "363489      A 6 B 2 C 15 D 3 : m C 208   \n",
                     "363490       A 6 B 6 C 19 D 2 : a P 66   \n",
                     "363491     A 12 B C 26 D 4 E : o P 352   \n",
                     "363499         A 6 B 11 C D 7 : a P 50   \n",
                     "363501         A 2 B 5 C D 2 : o P 120   \n",
                     "\n",
                     "[332680 rows x 7 columns]"
                  ]
               },
               "execution_count": 16,
               "metadata": {},
               "output_type": "execute_result"
            }
         ],
         "source": [
            "df_organic['tgt'] = df_organic['prototype'] + ': ' + df_organic['pearson']\n",
            "df_organic['tgt'] = [re.sub('([A-Z]):', r'\\1 :', tgt) for tgt in df_organic['tgt']]\n",
            "df_organic"
         ]
      },
      {
         "cell_type": "code",
         "execution_count": 17,
         "metadata": {},
         "outputs": [],
         "source": [
            "df_organic = df_organic.drop_duplicates(subset=['smiles'])\n",
            "df_train_and_val = df_organic.sample(frac=0.9, random_state=42)\n",
            "df_test = df_organic.drop(df_train_and_val.index)\n",
            "\n",
            "df_train = df_train_and_val.sample(frac=0.9, random_state=42)\n",
            "df_valid = df_train_and_val.drop(df_train.index)\n",
            "\n",
            "data_path = '/Users/williammccorkindale/ml_physics/smi2wyck/notebooks/data'\n",
            "df_train.smi_tokenized.to_csv(f'{data_path}/src-train.csv', index=False, header=False)\n",
            "df_train.tgt.to_csv(f'{data_path}/tgt-train.csv', index=False, header=False)\n",
            "\n",
            "df_valid.smi_tokenized.to_csv(f'{data_path}/src-valid.csv', index=False, header=False)\n",
            "df_valid.tgt.to_csv(f'{data_path}/tgt-valid.csv', index=False, header=False)\n",
            "\n",
            "df_test.smi_tokenized.to_csv(f'{data_path}/src-test.csv', index=False, header=False)\n",
            "df_test.tgt.to_csv(f'{data_path}/tgt-test.csv', index=False, header=False)\n"
         ]
      }
   ],
   "metadata": {
      "interpreter": {
         "hash": "fade0864c9a24203de3ed0faf9c71c898f3ed861f9409156898a7d5373bdd391"
      },
      "kernelspec": {
         "display_name": "Python 3.7.13 ('csd_env')",
         "language": "python",
         "name": "python3"
      },
      "language_info": {
         "codemirror_mode": {
            "name": "ipython",
            "version": 3
         },
         "file_extension": ".py",
         "mimetype": "text/x-python",
         "name": "python",
         "nbconvert_exporter": "python",
         "pygments_lexer": "ipython3",
         "version": "3.7.13"
      },
      "orig_nbformat": 4
   },
   "nbformat": 4,
   "nbformat_minor": 2
}