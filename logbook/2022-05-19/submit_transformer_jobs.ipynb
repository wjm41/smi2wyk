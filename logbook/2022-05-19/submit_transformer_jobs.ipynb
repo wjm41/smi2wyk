{
 "cells": [
  {
   "cell_type": "markdown",
   "metadata": {},
   "source": [
    "# Transformer job submissions\n",
    "\n",
    "19th May 2022 - Notebook for submitting transformer training jobs on predicting spacegroup numbers / strings."
   ]
  },
  {
   "cell_type": "code",
   "execution_count": 3,
   "metadata": {},
   "outputs": [],
   "source": [
    "from typing import List\n",
    "\n",
    "def write_slurm_script(job_name: str,\n",
    "                       run_time: str,\n",
    "                       output_name: str,\n",
    "                       script: str,\n",
    "                       file_name: str,\n",
    "                       args: List = None,\n",
    "                       package_dir: str = None,\n",
    "                       email: bool = False,\n",
    "                       gpu: bool = False,\n",
    "                       conda_env: str = 'ampere'):\n",
    "\n",
    "    if gpu:\n",
    "        slurm_options = [\n",
    "            '#!/bin/bash',\n",
    "            f'#SBATCH -J {job_name}',\n",
    "            '#SBATCH -A LEE-WJM41-SL2-GPU',\n",
    "            '#SBATCH --nodes=1',\n",
    "            '#SBATCH --ntasks=1',\n",
    "            '#SBATCH --gres=gpu:1',\n",
    "            f'#SBATCH --time={run_time}',\n",
    "            '#SBATCH --mail-user=wjm41@cam.ac.uk',\n",
    "            f'#SBATCH --output={output_name}',\n",
    "            '#SBATCH -p ampere',\n",
    "        ]\n",
    "    else:\n",
    "        slurm_options = [\n",
    "            '#!/bin/bash',\n",
    "            f'#SBATCH -J {job_name}',\n",
    "            '#SBATCH -A LEE-WJM41-SL2-CPU',\n",
    "            '#SBATCH --nodes=1',\n",
    "            '#SBATCH --ntasks=1',\n",
    "            ' #SBATCH --cpus-per-task=1',\n",
    "            f'#SBATCH --time={run_time}',\n",
    "            '#SBATCH --mail-user=wjm41@cam.ac.uk',\n",
    "            f'#SBATCH --output={output_name}',\n",
    "            '#SBATCH -p icelake-himem',\n",
    "        ]\n",
    "    if email:\n",
    "        slurm_options.append('#SBATCH --mail-type=ALL')\n",
    "\n",
    "    if gpu:\n",
    "        module_options = [\n",
    "            '. /etc/profile.d/modules.sh',\n",
    "            'module purge',\n",
    "            'module load rhel8/default-amp',\n",
    "            'module load miniconda/3',\n",
    "            f'source activate {conda_env}',\n",
    "        ]\n",
    "    else:\n",
    "        module_options = [\n",
    "            '. /etc/profile.d/modules.sh',\n",
    "            'module purge',\n",
    "            'module load rhel8/default-amp',\n",
    "            'module load miniconda/3',\n",
    "            f'source activate {conda_env}',\n",
    "        ]\n",
    "    if package_dir is not None:\n",
    "        pre_empt = f'cd {package_dir}; pip install . --use-feature=in-tree-build'\n",
    "    else:\n",
    "        pre_empt = ''\n",
    "\n",
    "    slurm_options = '\\n'.join(slurm_options)\n",
    "    module_options = '\\n'.join(module_options)\n",
    "    if args is not None:\n",
    "        command_to_run = ' '.join([script]+args)\n",
    "    else:\n",
    "        command_to_run = script\n",
    "        \n",
    "    string_to_write = f'{slurm_options}\\n{module_options}\\n{pre_empt}\\n{command_to_run}'\n",
    "\n",
    "    with open(file_name, 'w') as f:\n",
    "        f.write(string_to_write)\n",
    "\n",
    "    return\n"
   ]
  },
  {
   "cell_type": "markdown",
   "metadata": {},
   "source": [
    "Training Jobs:"
   ]
  },
  {
   "cell_type": "code",
   "execution_count": 4,
   "metadata": {},
   "outputs": [],
   "source": [
    "import os\n",
    "\n",
    "def submit_training_job(dataset:str):\n",
    "    data_dir = f'/home/wjm41/ml_physics/smi2wyk/data/{dataset}'\n",
    "    log_dir = f'/home/wjm41/ml_physics/smi2wyk/runs/{dataset}'\n",
    "\n",
    "    preprocess_script = f'onmt_build_vocab -config {data_dir}/preprocess.yaml'\n",
    "    train_script = f'onmt_train -config {data_dir}/train_single.yaml -tensorboard True -tensorboard_log_dir {log_dir}'\n",
    "    script = f'{preprocess_script}\\n{train_script}'\n",
    "\n",
    "    file_name = f'subm_train_{dataset}'\n",
    "    run_time = '8:00:00'\n",
    "    current_dir = os.getcwd()\n",
    "    output_name = f'{current_dir}/{file_name}.out'\n",
    "\n",
    "    write_slurm_script(job_name=f'{file_name}',\n",
    "                    run_time=f'{run_time}',\n",
    "                    output_name=output_name,\n",
    "                    script=script,\n",
    "                    file_name=file_name,\n",
    "                    email=True,\n",
    "                    conda_env='DebiasedMT',\n",
    "                    gpu=True\n",
    "                    )\n",
    "\n",
    "    print(f\"Submitted transformer training jobs on {dataset}\")\n",
    "\n",
    "    !sbatch {file_name}\n",
    "    return"
   ]
  },
  {
   "cell_type": "code",
   "execution_count": 5,
   "metadata": {},
   "outputs": [
    {
     "name": "stdout",
     "output_type": "stream",
     "text": [
      "Submitted transformer training jobs on smi2spgnum\n",
      "Submitted batch job 61398301\n",
      "Submitted transformer training jobs on smi2spgstr\n",
      "Submitted batch job 61398302\n",
      "Submitted transformer training jobs on smi2spgstrtok\n",
      "Submitted batch job 61398303\n"
     ]
    }
   ],
   "source": [
    "submit_training_job('smi2spgnum')\n",
    "submit_training_job('smi2spgstr')\n",
    "submit_training_job('smi2spgstrtok')\n"
   ]
  },
  {
   "cell_type": "markdown",
   "metadata": {},
   "source": [
    "Translation Jobs"
   ]
  },
  {
   "cell_type": "code",
   "execution_count": 1,
   "metadata": {},
   "outputs": [],
   "source": [
    "import os\n",
    "\n",
    "def submit_translation_job(dataset:str, step:int, beam_size:int = 10):\n",
    "    data_dir = f'/home/wjm41/ml_physics/smi2wyk/data/{dataset}'\n",
    "\n",
    "    script_dir = '/home/wjm41/ml_physics/smi2wyk/smi2wyk'\n",
    "    model_dir = f'/rds-d2/user/wjm41/hpc-work/models/smi2wyk'\n",
    "    model_path = f'{model_dir}/{dataset}/model_step_{step}.pt'\n",
    "    pred_name = f'{data_dir}/pred_step_{step}.txt'  \n",
    "    \n",
    "    translate_script = f'onmt_translate -model {model_path} -src {data_dir}/src-test.csv -output {pred_name} -n_best {beam_size} -beam_size {beam_size} -gpu 0'\n",
    "    score_script = f'python {script_dir}/score_predictions.py -targets {data_dir}/tgt-test.csv -beam_size {beam_size} -predictions {pred_name}'\n",
    "    script = f'{translate_script}\\n{score_script}'\n",
    "\n",
    "    file_name = f'subm_test_{dataset}_{step}'\n",
    "    run_time = '1:00:00'\n",
    "    current_dir = os.getcwd()\n",
    "    output_name = f'{current_dir}/{file_name}.out'\n",
    "\n",
    "    write_slurm_script(job_name=f'{file_name}',\n",
    "                    run_time=f'{run_time}',\n",
    "                    output_name=output_name,\n",
    "                    script=script,\n",
    "                    file_name=file_name,\n",
    "                    email=True,\n",
    "                    conda_env='DebiasedMT',\n",
    "                    gpu=True\n",
    "                    )\n",
    "\n",
    "    print(f\"Submitted translation & scoring jobs on {dataset}\")\n",
    "\n",
    "    !sbatch {file_name}\n",
    "    return"
   ]
  },
  {
   "cell_type": "code",
   "execution_count": 4,
   "metadata": {},
   "outputs": [
    {
     "name": "stdout",
     "output_type": "stream",
     "text": [
      "Submitted translation & scoring jobs on smi2spgnum\n",
      "Submitted batch job 61403365\n",
      "Submitted translation & scoring jobs on smi2spgstr\n",
      "Submitted batch job 61403368\n",
      "Submitted translation & scoring jobs on smi2spgstrtok\n",
      "Submitted batch job 61403370\n"
     ]
    }
   ],
   "source": [
    "step_num = 57500\n",
    "submit_translation_job('smi2spgnum', step=step_num)\n",
    "submit_translation_job('smi2spgstr', step=step_num)\n",
    "submit_translation_job('smi2spgstrtok', step=step_num)\n"
   ]
  },
  {
   "cell_type": "code",
   "execution_count": null,
   "metadata": {},
   "outputs": [],
   "source": []
  }
 ],
 "metadata": {
  "interpreter": {
   "hash": "4a98ec2822b38b1948661d4c5686e8b34cc301e9c46a1188b0127b15dc9e9c3f"
  },
  "kernelspec": {
   "display_name": "Python 3.7.13 64-bit ('csd_env')",
   "language": "python",
   "name": "python3"
  },
  "language_info": {
   "codemirror_mode": {
    "name": "ipython",
    "version": 3
   },
   "file_extension": ".py",
   "mimetype": "text/x-python",
   "name": "python",
   "nbconvert_exporter": "python",
   "pygments_lexer": "ipython3",
   "version": "3.7.13"
  },
  "orig_nbformat": 4
 },
 "nbformat": 4,
 "nbformat_minor": 2
}
