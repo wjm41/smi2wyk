{
 "cells": [
  {
   "cell_type": "markdown",
   "metadata": {},
   "source": [
    "# Analyse Transformer Results\n",
    "\n",
    "19th May - Notebook for looking at spacegroup number and string predictions from the transformer."
   ]
  },
  {
   "cell_type": "markdown",
   "metadata": {},
   "source": [
    "Accuracy"
   ]
  },
  {
   "cell_type": "code",
   "execution_count": 1,
   "metadata": {},
   "outputs": [],
   "source": [
    "from typing import List\n",
    "import pandas as pd\n",
    "\n",
    "VALID_BRAVAIS_LATTICES = ['aP', 'mP', 'mS', 'mA', 'mB', 'mC','oP', 'oS', 'oF', 'oI', 'tP', 'tI', 'hP','hR','cP', 'cF','cI']\n",
    "\n",
    "\n",
    "def get_rank(row, base, max_rank, tgt_column='target'):\n",
    "    for i in range(1, max_rank+1):\n",
    "        if row[tgt_column] == row['{}{}'.format(base, i)]:\n",
    "            return i\n",
    "    return 0\n",
    "\n",
    "def read_targets(targets:str = 'targets.txt',\n",
    "                 ignore_last_number: bool = False):\n",
    "    if ignore_last_number:\n",
    "        with open(targets, 'r') as f:\n",
    "            targets = [''.join(line.strip().split(' ')[:-1])\n",
    "                       for line in f.readlines()]\n",
    "    else:\n",
    "        with open(targets, 'r') as f:\n",
    "            targets = [''.join(line.strip().split(' '))\n",
    "                       for line in f.readlines()]\n",
    "            \n",
    "    return targets\n",
    "\n",
    "def read_preds(preds:str = 'predictions.txt',\n",
    "               beam_size:int = 5,\n",
    "              ignore_last_number: bool = False):\n",
    "    \n",
    "    predictions = [[] for i in range(beam_size)]\n",
    "\n",
    "    with open(preds, 'r') as f:\n",
    "\n",
    "        if ignore_last_number:\n",
    "            for i, line in enumerate(f.readlines()):\n",
    "\n",
    "                predictions[i % beam_size].append(\n",
    "                    ''.join(line.strip().split(' ')[:-1]))\n",
    "        else:\n",
    "            for i, line in enumerate(f.readlines()):\n",
    "\n",
    "                predictions[i % beam_size].append(\n",
    "                    ''.join(line.strip().split(' ')))\n",
    "                \n",
    "    return predictions\n",
    "\n",
    "def score_accuracy(targets:List, predictions:List, beam_size:int = 5):\n",
    "    test_df = pd.DataFrame(targets)\n",
    "    test_df.columns = ['target']\n",
    "    \n",
    "    for i, preds in enumerate(predictions):\n",
    "        test_df['prediction_{}'.format(i + 1)] = preds\n",
    "\n",
    "    test_df['rank'] = test_df.apply(lambda row: get_rank(\n",
    "        row, 'prediction_', beam_size), axis=1)\n",
    "\n",
    "    correct = 0\n",
    "    for i in range(1, beam_size+1):\n",
    "        correct += (test_df['rank'] == i).sum()\n",
    "\n",
    "        print('Top-{}: {:.1f}%'.format(i, correct / len(test_df) * 100))\n",
    "    return test_df\n",
    "\n",
    "def read_bravais(aflow_string):\n",
    "    return aflow_string.split(':')[1][:2]\n",
    "\n",
    "def score_bravais(targets:List, predictions:List, beam_size:int = 5):\n",
    "    test_df = pd.DataFrame(targets)\n",
    "    test_df.columns = ['target']\n",
    "    test_df['bravais'] = test_df.target.apply(read_bravais)\n",
    "    print(test_df.bravais.value_counts())\n",
    "    \n",
    "    for i, preds in enumerate(predictions):\n",
    "        test_df[f'prediction_{i+1}'] = preds\n",
    "        test_df[f'bravais_{i+1}'] = test_df[f'prediction_{i+1}'].apply(read_bravais)\n",
    "        \n",
    "    test_df['rank'] = test_df.apply(lambda row: get_rank(\n",
    "        row, 'bravais_', beam_size, tgt_column='bravais'), axis=1)\n",
    "\n",
    "    correct = 0\n",
    "    for i in range(1, beam_size+1):\n",
    "        correct += (test_df['rank'] == i).sum()\n",
    "        valid = len(test_df[test_df[f'bravais_{i}'].isin(VALID_BRAVAIS_LATTICES)])\n",
    "        print(f'Top-{i}: {100*correct/len(test_df):.1f}%, valid bravais lattices: {100*valid/len(test_df):.1f}%')\n",
    "    return test_df\n",
    "\n",
    "def score_predictions(beam_size:int = 5,\n",
    "                      tgt_path:str = 'targets.txt',\n",
    "                      pred_path:str = 'predictions.txt',\n",
    "                      inds:List = None,\n",
    "                      ignore_last_number: bool = False,\n",
    "                      bravais:bool = False):\n",
    "    \n",
    "    targets = read_targets(tgt_path, ignore_last_number)\n",
    "    with open(pred_path, 'r') as f:\n",
    "        targets = targets[:int(len(f.readlines())/beam_size)]\n",
    "\n",
    "    predictions = read_preds(pred_path, beam_size, ignore_last_number)\n",
    "    \n",
    "    if inds is not None:\n",
    "        old_len = len(targets)\n",
    "        targets = [targets[i] for i in inds]\n",
    "        predictions = [[predictions[j][i] for i in inds] for j in range(beam_size)]\n",
    "        print(f'Number of datapoints in test subset: {len(targets)} ({100*len(targets)/old_len:.2f}%)')\n",
    "\n",
    "    else:   \n",
    "        print(f'Number of datapoints in test set: {len(targets)}')\n",
    "    if bravais:\n",
    "        test_df = score_bravais(targets, predictions, beam_size)\n",
    "    else:\n",
    "        test_df = score_accuracy(targets, predictions, beam_size)\n",
    "    return test_df\n"
   ]
  },
  {
   "cell_type": "markdown",
   "metadata": {},
   "source": [
    "### Spacegroup Number"
   ]
  },
  {
   "cell_type": "code",
   "execution_count": 30,
   "metadata": {},
   "outputs": [
    {
     "name": "stdout",
     "output_type": "stream",
     "text": [
      "Number of datapoints in test set: 33268\n",
      "Top-1: 42.3%\n",
      "Top-2: 66.7%\n",
      "Top-3: 76.7%\n",
      "Top-4: 84.6%\n",
      "Top-5: 88.4%\n",
      "Top-6: 90.4%\n",
      "Top-7: 91.9%\n",
      "Top-8: 93.0%\n",
      "Top-9: 93.8%\n",
      "Top-10: 94.4%\n"
     ]
    }
   ],
   "source": [
    "data_dir = '/home/wjm41/ml_physics/smi2wyk/data'\n",
    "dataset = 'smi2spgnum'\n",
    "transformer_preds = f'{data_dir}/{dataset}/pred_step_57500.txt'\n",
    "\n",
    "targets = f'{data_dir}/{dataset}/tgt-test.csv'\n",
    "df_test = score_predictions(beam_size=10, tgt_path=targets, pred_path=transformer_preds, ignore_last_number=False,)"
   ]
  },
  {
   "cell_type": "markdown",
   "metadata": {},
   "source": [
    "Let's look at the space group distribution:"
   ]
  },
  {
   "cell_type": "code",
   "execution_count": 31,
   "metadata": {},
   "outputs": [
    {
     "data": {
      "application/vnd.plotly.v1+json": {
       "config": {
        "plotlyServerURL": "https://plot.ly"
       },
       "data": [
        {
         "branchvalues": "total",
         "domain": {
          "x": [
           0,
           1
          ],
          "y": [
           0,
           1
          ]
         },
         "hovertemplate": "labels=%{label}<br>count=%{value}<br>parent=%{parent}<br>id=%{id}<extra></extra>",
         "ids": [
          "1",
          "100",
          "106",
          "109",
          "11",
          "110",
          "113",
          "114",
          "12",
          "120",
          "121",
          "122",
          "126",
          "127",
          "129",
          "13",
          "130",
          "135",
          "136",
          "14",
          "140",
          "142",
          "143",
          "144",
          "145",
          "146",
          "147",
          "148",
          "15",
          "151",
          "152",
          "154",
          "155",
          "158",
          "159",
          "160",
          "161",
          "165",
          "167",
          "169",
          "170",
          "171",
          "172",
          "173",
          "176",
          "178",
          "179",
          "18",
          "186",
          "19",
          "194",
          "197",
          "198",
          "2",
          "20",
          "205",
          "213",
          "218",
          "219",
          "22",
          "220",
          "228",
          "26",
          "29",
          "3",
          "30",
          "31",
          "32",
          "33",
          "34",
          "36",
          "4",
          "42",
          "43",
          "45",
          "46",
          "5",
          "52",
          "54",
          "55",
          "56",
          "57",
          "58",
          "59",
          "60",
          "61",
          "62",
          "7",
          "70",
          "72",
          "73",
          "76",
          "77",
          "78",
          "79",
          "8",
          "80",
          "81",
          "82",
          "85",
          "86",
          "88",
          "9",
          "91",
          "92",
          "94",
          "96"
         ],
         "labels": [
          "1",
          "100",
          "106",
          "109",
          "11",
          "110",
          "113",
          "114",
          "12",
          "120",
          "121",
          "122",
          "126",
          "127",
          "129",
          "13",
          "130",
          "135",
          "136",
          "14",
          "140",
          "142",
          "143",
          "144",
          "145",
          "146",
          "147",
          "148",
          "15",
          "151",
          "152",
          "154",
          "155",
          "158",
          "159",
          "160",
          "161",
          "165",
          "167",
          "169",
          "170",
          "171",
          "172",
          "173",
          "176",
          "178",
          "179",
          "18",
          "186",
          "19",
          "194",
          "197",
          "198",
          "2",
          "20",
          "205",
          "213",
          "218",
          "219",
          "22",
          "220",
          "228",
          "26",
          "29",
          "3",
          "30",
          "31",
          "32",
          "33",
          "34",
          "36",
          "4",
          "42",
          "43",
          "45",
          "46",
          "5",
          "52",
          "54",
          "55",
          "56",
          "57",
          "58",
          "59",
          "60",
          "61",
          "62",
          "7",
          "70",
          "72",
          "73",
          "76",
          "77",
          "78",
          "79",
          "8",
          "80",
          "81",
          "82",
          "85",
          "86",
          "88",
          "9",
          "91",
          "92",
          "94",
          "96"
         ],
         "name": "",
         "parents": [
          "",
          "",
          "",
          "",
          "",
          "",
          "",
          "",
          "",
          "",
          "",
          "",
          "",
          "",
          "",
          "",
          "",
          "",
          "",
          "",
          "",
          "",
          "",
          "",
          "",
          "",
          "",
          "",
          "",
          "",
          "",
          "",
          "",
          "",
          "",
          "",
          "",
          "",
          "",
          "",
          "",
          "",
          "",
          "",
          "",
          "",
          "",
          "",
          "",
          "",
          "",
          "",
          "",
          "",
          "",
          "",
          "",
          "",
          "",
          "",
          "",
          "",
          "",
          "",
          "",
          "",
          "",
          "",
          "",
          "",
          "",
          "",
          "",
          "",
          "",
          "",
          "",
          "",
          "",
          "",
          "",
          "",
          "",
          "",
          "",
          "",
          "",
          "",
          "",
          "",
          "",
          "",
          "",
          "",
          "",
          "",
          "",
          "",
          "",
          "",
          "",
          "",
          "",
          "",
          "",
          "",
          ""
         ],
         "type": "sunburst",
         "values": [
          467,
          1,
          5,
          1,
          99,
          6,
          9,
          24,
          26,
          2,
          2,
          4,
          2,
          1,
          3,
          137,
          1,
          1,
          1,
          13000,
          1,
          2,
          3,
          31,
          37,
          23,
          16,
          89,
          51,
          1,
          11,
          13,
          2,
          1,
          3,
          1,
          17,
          1,
          8,
          33,
          23,
          3,
          1,
          13,
          7,
          4,
          1,
          157,
          2,
          4310,
          1,
          1,
          6,
          7316,
          8,
          2,
          1,
          1,
          1,
          1,
          3,
          2,
          3,
          377,
          6,
          2,
          11,
          4,
          615,
          6,
          2,
          3205,
          2,
          117,
          21,
          2,
          153,
          7,
          4,
          4,
          84,
          20,
          2,
          4,
          242,
          1402,
          210,
          187,
          9,
          5,
          4,
          43,
          4,
          36,
          5,
          2,
          5,
          6,
          22,
          7,
          24,
          72,
          224,
          2,
          49,
          1,
          56
         ]
        }
       ],
       "layout": {
        "legend": {
         "tracegroupgap": 0
        },
        "margin": {
         "t": 60
        },
        "template": {
         "data": {
          "bar": [
           {
            "error_x": {
             "color": "#2a3f5f"
            },
            "error_y": {
             "color": "#2a3f5f"
            },
            "marker": {
             "line": {
              "color": "#E5ECF6",
              "width": 0.5
             },
             "pattern": {
              "fillmode": "overlay",
              "size": 10,
              "solidity": 0.2
             }
            },
            "type": "bar"
           }
          ],
          "barpolar": [
           {
            "marker": {
             "line": {
              "color": "#E5ECF6",
              "width": 0.5
             },
             "pattern": {
              "fillmode": "overlay",
              "size": 10,
              "solidity": 0.2
             }
            },
            "type": "barpolar"
           }
          ],
          "carpet": [
           {
            "aaxis": {
             "endlinecolor": "#2a3f5f",
             "gridcolor": "white",
             "linecolor": "white",
             "minorgridcolor": "white",
             "startlinecolor": "#2a3f5f"
            },
            "baxis": {
             "endlinecolor": "#2a3f5f",
             "gridcolor": "white",
             "linecolor": "white",
             "minorgridcolor": "white",
             "startlinecolor": "#2a3f5f"
            },
            "type": "carpet"
           }
          ],
          "choropleth": [
           {
            "colorbar": {
             "outlinewidth": 0,
             "ticks": ""
            },
            "type": "choropleth"
           }
          ],
          "contour": [
           {
            "colorbar": {
             "outlinewidth": 0,
             "ticks": ""
            },
            "colorscale": [
             [
              0,
              "#0d0887"
             ],
             [
              0.1111111111111111,
              "#46039f"
             ],
             [
              0.2222222222222222,
              "#7201a8"
             ],
             [
              0.3333333333333333,
              "#9c179e"
             ],
             [
              0.4444444444444444,
              "#bd3786"
             ],
             [
              0.5555555555555556,
              "#d8576b"
             ],
             [
              0.6666666666666666,
              "#ed7953"
             ],
             [
              0.7777777777777778,
              "#fb9f3a"
             ],
             [
              0.8888888888888888,
              "#fdca26"
             ],
             [
              1,
              "#f0f921"
             ]
            ],
            "type": "contour"
           }
          ],
          "contourcarpet": [
           {
            "colorbar": {
             "outlinewidth": 0,
             "ticks": ""
            },
            "type": "contourcarpet"
           }
          ],
          "heatmap": [
           {
            "colorbar": {
             "outlinewidth": 0,
             "ticks": ""
            },
            "colorscale": [
             [
              0,
              "#0d0887"
             ],
             [
              0.1111111111111111,
              "#46039f"
             ],
             [
              0.2222222222222222,
              "#7201a8"
             ],
             [
              0.3333333333333333,
              "#9c179e"
             ],
             [
              0.4444444444444444,
              "#bd3786"
             ],
             [
              0.5555555555555556,
              "#d8576b"
             ],
             [
              0.6666666666666666,
              "#ed7953"
             ],
             [
              0.7777777777777778,
              "#fb9f3a"
             ],
             [
              0.8888888888888888,
              "#fdca26"
             ],
             [
              1,
              "#f0f921"
             ]
            ],
            "type": "heatmap"
           }
          ],
          "heatmapgl": [
           {
            "colorbar": {
             "outlinewidth": 0,
             "ticks": ""
            },
            "colorscale": [
             [
              0,
              "#0d0887"
             ],
             [
              0.1111111111111111,
              "#46039f"
             ],
             [
              0.2222222222222222,
              "#7201a8"
             ],
             [
              0.3333333333333333,
              "#9c179e"
             ],
             [
              0.4444444444444444,
              "#bd3786"
             ],
             [
              0.5555555555555556,
              "#d8576b"
             ],
             [
              0.6666666666666666,
              "#ed7953"
             ],
             [
              0.7777777777777778,
              "#fb9f3a"
             ],
             [
              0.8888888888888888,
              "#fdca26"
             ],
             [
              1,
              "#f0f921"
             ]
            ],
            "type": "heatmapgl"
           }
          ],
          "histogram": [
           {
            "marker": {
             "pattern": {
              "fillmode": "overlay",
              "size": 10,
              "solidity": 0.2
             }
            },
            "type": "histogram"
           }
          ],
          "histogram2d": [
           {
            "colorbar": {
             "outlinewidth": 0,
             "ticks": ""
            },
            "colorscale": [
             [
              0,
              "#0d0887"
             ],
             [
              0.1111111111111111,
              "#46039f"
             ],
             [
              0.2222222222222222,
              "#7201a8"
             ],
             [
              0.3333333333333333,
              "#9c179e"
             ],
             [
              0.4444444444444444,
              "#bd3786"
             ],
             [
              0.5555555555555556,
              "#d8576b"
             ],
             [
              0.6666666666666666,
              "#ed7953"
             ],
             [
              0.7777777777777778,
              "#fb9f3a"
             ],
             [
              0.8888888888888888,
              "#fdca26"
             ],
             [
              1,
              "#f0f921"
             ]
            ],
            "type": "histogram2d"
           }
          ],
          "histogram2dcontour": [
           {
            "colorbar": {
             "outlinewidth": 0,
             "ticks": ""
            },
            "colorscale": [
             [
              0,
              "#0d0887"
             ],
             [
              0.1111111111111111,
              "#46039f"
             ],
             [
              0.2222222222222222,
              "#7201a8"
             ],
             [
              0.3333333333333333,
              "#9c179e"
             ],
             [
              0.4444444444444444,
              "#bd3786"
             ],
             [
              0.5555555555555556,
              "#d8576b"
             ],
             [
              0.6666666666666666,
              "#ed7953"
             ],
             [
              0.7777777777777778,
              "#fb9f3a"
             ],
             [
              0.8888888888888888,
              "#fdca26"
             ],
             [
              1,
              "#f0f921"
             ]
            ],
            "type": "histogram2dcontour"
           }
          ],
          "mesh3d": [
           {
            "colorbar": {
             "outlinewidth": 0,
             "ticks": ""
            },
            "type": "mesh3d"
           }
          ],
          "parcoords": [
           {
            "line": {
             "colorbar": {
              "outlinewidth": 0,
              "ticks": ""
             }
            },
            "type": "parcoords"
           }
          ],
          "pie": [
           {
            "automargin": true,
            "type": "pie"
           }
          ],
          "scatter": [
           {
            "fillpattern": {
             "fillmode": "overlay",
             "size": 10,
             "solidity": 0.2
            },
            "type": "scatter"
           }
          ],
          "scatter3d": [
           {
            "line": {
             "colorbar": {
              "outlinewidth": 0,
              "ticks": ""
             }
            },
            "marker": {
             "colorbar": {
              "outlinewidth": 0,
              "ticks": ""
             }
            },
            "type": "scatter3d"
           }
          ],
          "scattercarpet": [
           {
            "marker": {
             "colorbar": {
              "outlinewidth": 0,
              "ticks": ""
             }
            },
            "type": "scattercarpet"
           }
          ],
          "scattergeo": [
           {
            "marker": {
             "colorbar": {
              "outlinewidth": 0,
              "ticks": ""
             }
            },
            "type": "scattergeo"
           }
          ],
          "scattergl": [
           {
            "marker": {
             "colorbar": {
              "outlinewidth": 0,
              "ticks": ""
             }
            },
            "type": "scattergl"
           }
          ],
          "scattermapbox": [
           {
            "marker": {
             "colorbar": {
              "outlinewidth": 0,
              "ticks": ""
             }
            },
            "type": "scattermapbox"
           }
          ],
          "scatterpolar": [
           {
            "marker": {
             "colorbar": {
              "outlinewidth": 0,
              "ticks": ""
             }
            },
            "type": "scatterpolar"
           }
          ],
          "scatterpolargl": [
           {
            "marker": {
             "colorbar": {
              "outlinewidth": 0,
              "ticks": ""
             }
            },
            "type": "scatterpolargl"
           }
          ],
          "scatterternary": [
           {
            "marker": {
             "colorbar": {
              "outlinewidth": 0,
              "ticks": ""
             }
            },
            "type": "scatterternary"
           }
          ],
          "surface": [
           {
            "colorbar": {
             "outlinewidth": 0,
             "ticks": ""
            },
            "colorscale": [
             [
              0,
              "#0d0887"
             ],
             [
              0.1111111111111111,
              "#46039f"
             ],
             [
              0.2222222222222222,
              "#7201a8"
             ],
             [
              0.3333333333333333,
              "#9c179e"
             ],
             [
              0.4444444444444444,
              "#bd3786"
             ],
             [
              0.5555555555555556,
              "#d8576b"
             ],
             [
              0.6666666666666666,
              "#ed7953"
             ],
             [
              0.7777777777777778,
              "#fb9f3a"
             ],
             [
              0.8888888888888888,
              "#fdca26"
             ],
             [
              1,
              "#f0f921"
             ]
            ],
            "type": "surface"
           }
          ],
          "table": [
           {
            "cells": {
             "fill": {
              "color": "#EBF0F8"
             },
             "line": {
              "color": "white"
             }
            },
            "header": {
             "fill": {
              "color": "#C8D4E3"
             },
             "line": {
              "color": "white"
             }
            },
            "type": "table"
           }
          ]
         },
         "layout": {
          "annotationdefaults": {
           "arrowcolor": "#2a3f5f",
           "arrowhead": 0,
           "arrowwidth": 1
          },
          "autotypenumbers": "strict",
          "coloraxis": {
           "colorbar": {
            "outlinewidth": 0,
            "ticks": ""
           }
          },
          "colorscale": {
           "diverging": [
            [
             0,
             "#8e0152"
            ],
            [
             0.1,
             "#c51b7d"
            ],
            [
             0.2,
             "#de77ae"
            ],
            [
             0.3,
             "#f1b6da"
            ],
            [
             0.4,
             "#fde0ef"
            ],
            [
             0.5,
             "#f7f7f7"
            ],
            [
             0.6,
             "#e6f5d0"
            ],
            [
             0.7,
             "#b8e186"
            ],
            [
             0.8,
             "#7fbc41"
            ],
            [
             0.9,
             "#4d9221"
            ],
            [
             1,
             "#276419"
            ]
           ],
           "sequential": [
            [
             0,
             "#0d0887"
            ],
            [
             0.1111111111111111,
             "#46039f"
            ],
            [
             0.2222222222222222,
             "#7201a8"
            ],
            [
             0.3333333333333333,
             "#9c179e"
            ],
            [
             0.4444444444444444,
             "#bd3786"
            ],
            [
             0.5555555555555556,
             "#d8576b"
            ],
            [
             0.6666666666666666,
             "#ed7953"
            ],
            [
             0.7777777777777778,
             "#fb9f3a"
            ],
            [
             0.8888888888888888,
             "#fdca26"
            ],
            [
             1,
             "#f0f921"
            ]
           ],
           "sequentialminus": [
            [
             0,
             "#0d0887"
            ],
            [
             0.1111111111111111,
             "#46039f"
            ],
            [
             0.2222222222222222,
             "#7201a8"
            ],
            [
             0.3333333333333333,
             "#9c179e"
            ],
            [
             0.4444444444444444,
             "#bd3786"
            ],
            [
             0.5555555555555556,
             "#d8576b"
            ],
            [
             0.6666666666666666,
             "#ed7953"
            ],
            [
             0.7777777777777778,
             "#fb9f3a"
            ],
            [
             0.8888888888888888,
             "#fdca26"
            ],
            [
             1,
             "#f0f921"
            ]
           ]
          },
          "colorway": [
           "#636efa",
           "#EF553B",
           "#00cc96",
           "#ab63fa",
           "#FFA15A",
           "#19d3f3",
           "#FF6692",
           "#B6E880",
           "#FF97FF",
           "#FECB52"
          ],
          "font": {
           "color": "#2a3f5f"
          },
          "geo": {
           "bgcolor": "white",
           "lakecolor": "white",
           "landcolor": "#E5ECF6",
           "showlakes": true,
           "showland": true,
           "subunitcolor": "white"
          },
          "hoverlabel": {
           "align": "left"
          },
          "hovermode": "closest",
          "mapbox": {
           "style": "light"
          },
          "paper_bgcolor": "white",
          "plot_bgcolor": "#E5ECF6",
          "polar": {
           "angularaxis": {
            "gridcolor": "white",
            "linecolor": "white",
            "ticks": ""
           },
           "bgcolor": "#E5ECF6",
           "radialaxis": {
            "gridcolor": "white",
            "linecolor": "white",
            "ticks": ""
           }
          },
          "scene": {
           "xaxis": {
            "backgroundcolor": "#E5ECF6",
            "gridcolor": "white",
            "gridwidth": 2,
            "linecolor": "white",
            "showbackground": true,
            "ticks": "",
            "zerolinecolor": "white"
           },
           "yaxis": {
            "backgroundcolor": "#E5ECF6",
            "gridcolor": "white",
            "gridwidth": 2,
            "linecolor": "white",
            "showbackground": true,
            "ticks": "",
            "zerolinecolor": "white"
           },
           "zaxis": {
            "backgroundcolor": "#E5ECF6",
            "gridcolor": "white",
            "gridwidth": 2,
            "linecolor": "white",
            "showbackground": true,
            "ticks": "",
            "zerolinecolor": "white"
           }
          },
          "shapedefaults": {
           "line": {
            "color": "#2a3f5f"
           }
          },
          "ternary": {
           "aaxis": {
            "gridcolor": "white",
            "linecolor": "white",
            "ticks": ""
           },
           "baxis": {
            "gridcolor": "white",
            "linecolor": "white",
            "ticks": ""
           },
           "bgcolor": "#E5ECF6",
           "caxis": {
            "gridcolor": "white",
            "linecolor": "white",
            "ticks": ""
           }
          },
          "title": {
           "x": 0.05
          },
          "xaxis": {
           "automargin": true,
           "gridcolor": "white",
           "linecolor": "white",
           "ticks": "",
           "title": {
            "standoff": 15
           },
           "zerolinecolor": "white",
           "zerolinewidth": 2
          },
          "yaxis": {
           "automargin": true,
           "gridcolor": "white",
           "linecolor": "white",
           "ticks": "",
           "title": {
            "standoff": 15
           },
           "zerolinecolor": "white",
           "zerolinewidth": 2
          }
         }
        }
       }
      },
      "text/html": [
       "<div>                            <div id=\"fba0b5b0-19c9-46ea-83f2-afadf8051198\" class=\"plotly-graph-div\" style=\"height:525px; width:100%;\"></div>            <script type=\"text/javascript\">                require([\"plotly\"], function(Plotly) {                    window.PLOTLYENV=window.PLOTLYENV || {};                                    if (document.getElementById(\"fba0b5b0-19c9-46ea-83f2-afadf8051198\")) {                    Plotly.newPlot(                        \"fba0b5b0-19c9-46ea-83f2-afadf8051198\",                        [{\"branchvalues\":\"total\",\"domain\":{\"x\":[0.0,1.0],\"y\":[0.0,1.0]},\"hovertemplate\":\"labels=%{label}<br>count=%{value}<br>parent=%{parent}<br>id=%{id}<extra></extra>\",\"ids\":[\"1\",\"100\",\"106\",\"109\",\"11\",\"110\",\"113\",\"114\",\"12\",\"120\",\"121\",\"122\",\"126\",\"127\",\"129\",\"13\",\"130\",\"135\",\"136\",\"14\",\"140\",\"142\",\"143\",\"144\",\"145\",\"146\",\"147\",\"148\",\"15\",\"151\",\"152\",\"154\",\"155\",\"158\",\"159\",\"160\",\"161\",\"165\",\"167\",\"169\",\"170\",\"171\",\"172\",\"173\",\"176\",\"178\",\"179\",\"18\",\"186\",\"19\",\"194\",\"197\",\"198\",\"2\",\"20\",\"205\",\"213\",\"218\",\"219\",\"22\",\"220\",\"228\",\"26\",\"29\",\"3\",\"30\",\"31\",\"32\",\"33\",\"34\",\"36\",\"4\",\"42\",\"43\",\"45\",\"46\",\"5\",\"52\",\"54\",\"55\",\"56\",\"57\",\"58\",\"59\",\"60\",\"61\",\"62\",\"7\",\"70\",\"72\",\"73\",\"76\",\"77\",\"78\",\"79\",\"8\",\"80\",\"81\",\"82\",\"85\",\"86\",\"88\",\"9\",\"91\",\"92\",\"94\",\"96\"],\"labels\":[\"1\",\"100\",\"106\",\"109\",\"11\",\"110\",\"113\",\"114\",\"12\",\"120\",\"121\",\"122\",\"126\",\"127\",\"129\",\"13\",\"130\",\"135\",\"136\",\"14\",\"140\",\"142\",\"143\",\"144\",\"145\",\"146\",\"147\",\"148\",\"15\",\"151\",\"152\",\"154\",\"155\",\"158\",\"159\",\"160\",\"161\",\"165\",\"167\",\"169\",\"170\",\"171\",\"172\",\"173\",\"176\",\"178\",\"179\",\"18\",\"186\",\"19\",\"194\",\"197\",\"198\",\"2\",\"20\",\"205\",\"213\",\"218\",\"219\",\"22\",\"220\",\"228\",\"26\",\"29\",\"3\",\"30\",\"31\",\"32\",\"33\",\"34\",\"36\",\"4\",\"42\",\"43\",\"45\",\"46\",\"5\",\"52\",\"54\",\"55\",\"56\",\"57\",\"58\",\"59\",\"60\",\"61\",\"62\",\"7\",\"70\",\"72\",\"73\",\"76\",\"77\",\"78\",\"79\",\"8\",\"80\",\"81\",\"82\",\"85\",\"86\",\"88\",\"9\",\"91\",\"92\",\"94\",\"96\"],\"name\":\"\",\"parents\":[\"\",\"\",\"\",\"\",\"\",\"\",\"\",\"\",\"\",\"\",\"\",\"\",\"\",\"\",\"\",\"\",\"\",\"\",\"\",\"\",\"\",\"\",\"\",\"\",\"\",\"\",\"\",\"\",\"\",\"\",\"\",\"\",\"\",\"\",\"\",\"\",\"\",\"\",\"\",\"\",\"\",\"\",\"\",\"\",\"\",\"\",\"\",\"\",\"\",\"\",\"\",\"\",\"\",\"\",\"\",\"\",\"\",\"\",\"\",\"\",\"\",\"\",\"\",\"\",\"\",\"\",\"\",\"\",\"\",\"\",\"\",\"\",\"\",\"\",\"\",\"\",\"\",\"\",\"\",\"\",\"\",\"\",\"\",\"\",\"\",\"\",\"\",\"\",\"\",\"\",\"\",\"\",\"\",\"\",\"\",\"\",\"\",\"\",\"\",\"\",\"\",\"\",\"\",\"\",\"\",\"\",\"\"],\"values\":[467,1,5,1,99,6,9,24,26,2,2,4,2,1,3,137,1,1,1,13000,1,2,3,31,37,23,16,89,51,1,11,13,2,1,3,1,17,1,8,33,23,3,1,13,7,4,1,157,2,4310,1,1,6,7316,8,2,1,1,1,1,3,2,3,377,6,2,11,4,615,6,2,3205,2,117,21,2,153,7,4,4,84,20,2,4,242,1402,210,187,9,5,4,43,4,36,5,2,5,6,22,7,24,72,224,2,49,1,56],\"type\":\"sunburst\"}],                        {\"template\":{\"data\":{\"histogram2dcontour\":[{\"type\":\"histogram2dcontour\",\"colorbar\":{\"outlinewidth\":0,\"ticks\":\"\"},\"colorscale\":[[0.0,\"#0d0887\"],[0.1111111111111111,\"#46039f\"],[0.2222222222222222,\"#7201a8\"],[0.3333333333333333,\"#9c179e\"],[0.4444444444444444,\"#bd3786\"],[0.5555555555555556,\"#d8576b\"],[0.6666666666666666,\"#ed7953\"],[0.7777777777777778,\"#fb9f3a\"],[0.8888888888888888,\"#fdca26\"],[1.0,\"#f0f921\"]]}],\"choropleth\":[{\"type\":\"choropleth\",\"colorbar\":{\"outlinewidth\":0,\"ticks\":\"\"}}],\"histogram2d\":[{\"type\":\"histogram2d\",\"colorbar\":{\"outlinewidth\":0,\"ticks\":\"\"},\"colorscale\":[[0.0,\"#0d0887\"],[0.1111111111111111,\"#46039f\"],[0.2222222222222222,\"#7201a8\"],[0.3333333333333333,\"#9c179e\"],[0.4444444444444444,\"#bd3786\"],[0.5555555555555556,\"#d8576b\"],[0.6666666666666666,\"#ed7953\"],[0.7777777777777778,\"#fb9f3a\"],[0.8888888888888888,\"#fdca26\"],[1.0,\"#f0f921\"]]}],\"heatmap\":[{\"type\":\"heatmap\",\"colorbar\":{\"outlinewidth\":0,\"ticks\":\"\"},\"colorscale\":[[0.0,\"#0d0887\"],[0.1111111111111111,\"#46039f\"],[0.2222222222222222,\"#7201a8\"],[0.3333333333333333,\"#9c179e\"],[0.4444444444444444,\"#bd3786\"],[0.5555555555555556,\"#d8576b\"],[0.6666666666666666,\"#ed7953\"],[0.7777777777777778,\"#fb9f3a\"],[0.8888888888888888,\"#fdca26\"],[1.0,\"#f0f921\"]]}],\"heatmapgl\":[{\"type\":\"heatmapgl\",\"colorbar\":{\"outlinewidth\":0,\"ticks\":\"\"},\"colorscale\":[[0.0,\"#0d0887\"],[0.1111111111111111,\"#46039f\"],[0.2222222222222222,\"#7201a8\"],[0.3333333333333333,\"#9c179e\"],[0.4444444444444444,\"#bd3786\"],[0.5555555555555556,\"#d8576b\"],[0.6666666666666666,\"#ed7953\"],[0.7777777777777778,\"#fb9f3a\"],[0.8888888888888888,\"#fdca26\"],[1.0,\"#f0f921\"]]}],\"contourcarpet\":[{\"type\":\"contourcarpet\",\"colorbar\":{\"outlinewidth\":0,\"ticks\":\"\"}}],\"contour\":[{\"type\":\"contour\",\"colorbar\":{\"outlinewidth\":0,\"ticks\":\"\"},\"colorscale\":[[0.0,\"#0d0887\"],[0.1111111111111111,\"#46039f\"],[0.2222222222222222,\"#7201a8\"],[0.3333333333333333,\"#9c179e\"],[0.4444444444444444,\"#bd3786\"],[0.5555555555555556,\"#d8576b\"],[0.6666666666666666,\"#ed7953\"],[0.7777777777777778,\"#fb9f3a\"],[0.8888888888888888,\"#fdca26\"],[1.0,\"#f0f921\"]]}],\"surface\":[{\"type\":\"surface\",\"colorbar\":{\"outlinewidth\":0,\"ticks\":\"\"},\"colorscale\":[[0.0,\"#0d0887\"],[0.1111111111111111,\"#46039f\"],[0.2222222222222222,\"#7201a8\"],[0.3333333333333333,\"#9c179e\"],[0.4444444444444444,\"#bd3786\"],[0.5555555555555556,\"#d8576b\"],[0.6666666666666666,\"#ed7953\"],[0.7777777777777778,\"#fb9f3a\"],[0.8888888888888888,\"#fdca26\"],[1.0,\"#f0f921\"]]}],\"mesh3d\":[{\"type\":\"mesh3d\",\"colorbar\":{\"outlinewidth\":0,\"ticks\":\"\"}}],\"scatter\":[{\"fillpattern\":{\"fillmode\":\"overlay\",\"size\":10,\"solidity\":0.2},\"type\":\"scatter\"}],\"parcoords\":[{\"type\":\"parcoords\",\"line\":{\"colorbar\":{\"outlinewidth\":0,\"ticks\":\"\"}}}],\"scatterpolargl\":[{\"type\":\"scatterpolargl\",\"marker\":{\"colorbar\":{\"outlinewidth\":0,\"ticks\":\"\"}}}],\"bar\":[{\"error_x\":{\"color\":\"#2a3f5f\"},\"error_y\":{\"color\":\"#2a3f5f\"},\"marker\":{\"line\":{\"color\":\"#E5ECF6\",\"width\":0.5},\"pattern\":{\"fillmode\":\"overlay\",\"size\":10,\"solidity\":0.2}},\"type\":\"bar\"}],\"scattergeo\":[{\"type\":\"scattergeo\",\"marker\":{\"colorbar\":{\"outlinewidth\":0,\"ticks\":\"\"}}}],\"scatterpolar\":[{\"type\":\"scatterpolar\",\"marker\":{\"colorbar\":{\"outlinewidth\":0,\"ticks\":\"\"}}}],\"histogram\":[{\"marker\":{\"pattern\":{\"fillmode\":\"overlay\",\"size\":10,\"solidity\":0.2}},\"type\":\"histogram\"}],\"scattergl\":[{\"type\":\"scattergl\",\"marker\":{\"colorbar\":{\"outlinewidth\":0,\"ticks\":\"\"}}}],\"scatter3d\":[{\"type\":\"scatter3d\",\"line\":{\"colorbar\":{\"outlinewidth\":0,\"ticks\":\"\"}},\"marker\":{\"colorbar\":{\"outlinewidth\":0,\"ticks\":\"\"}}}],\"scattermapbox\":[{\"type\":\"scattermapbox\",\"marker\":{\"colorbar\":{\"outlinewidth\":0,\"ticks\":\"\"}}}],\"scatterternary\":[{\"type\":\"scatterternary\",\"marker\":{\"colorbar\":{\"outlinewidth\":0,\"ticks\":\"\"}}}],\"scattercarpet\":[{\"type\":\"scattercarpet\",\"marker\":{\"colorbar\":{\"outlinewidth\":0,\"ticks\":\"\"}}}],\"carpet\":[{\"aaxis\":{\"endlinecolor\":\"#2a3f5f\",\"gridcolor\":\"white\",\"linecolor\":\"white\",\"minorgridcolor\":\"white\",\"startlinecolor\":\"#2a3f5f\"},\"baxis\":{\"endlinecolor\":\"#2a3f5f\",\"gridcolor\":\"white\",\"linecolor\":\"white\",\"minorgridcolor\":\"white\",\"startlinecolor\":\"#2a3f5f\"},\"type\":\"carpet\"}],\"table\":[{\"cells\":{\"fill\":{\"color\":\"#EBF0F8\"},\"line\":{\"color\":\"white\"}},\"header\":{\"fill\":{\"color\":\"#C8D4E3\"},\"line\":{\"color\":\"white\"}},\"type\":\"table\"}],\"barpolar\":[{\"marker\":{\"line\":{\"color\":\"#E5ECF6\",\"width\":0.5},\"pattern\":{\"fillmode\":\"overlay\",\"size\":10,\"solidity\":0.2}},\"type\":\"barpolar\"}],\"pie\":[{\"automargin\":true,\"type\":\"pie\"}]},\"layout\":{\"autotypenumbers\":\"strict\",\"colorway\":[\"#636efa\",\"#EF553B\",\"#00cc96\",\"#ab63fa\",\"#FFA15A\",\"#19d3f3\",\"#FF6692\",\"#B6E880\",\"#FF97FF\",\"#FECB52\"],\"font\":{\"color\":\"#2a3f5f\"},\"hovermode\":\"closest\",\"hoverlabel\":{\"align\":\"left\"},\"paper_bgcolor\":\"white\",\"plot_bgcolor\":\"#E5ECF6\",\"polar\":{\"bgcolor\":\"#E5ECF6\",\"angularaxis\":{\"gridcolor\":\"white\",\"linecolor\":\"white\",\"ticks\":\"\"},\"radialaxis\":{\"gridcolor\":\"white\",\"linecolor\":\"white\",\"ticks\":\"\"}},\"ternary\":{\"bgcolor\":\"#E5ECF6\",\"aaxis\":{\"gridcolor\":\"white\",\"linecolor\":\"white\",\"ticks\":\"\"},\"baxis\":{\"gridcolor\":\"white\",\"linecolor\":\"white\",\"ticks\":\"\"},\"caxis\":{\"gridcolor\":\"white\",\"linecolor\":\"white\",\"ticks\":\"\"}},\"coloraxis\":{\"colorbar\":{\"outlinewidth\":0,\"ticks\":\"\"}},\"colorscale\":{\"sequential\":[[0.0,\"#0d0887\"],[0.1111111111111111,\"#46039f\"],[0.2222222222222222,\"#7201a8\"],[0.3333333333333333,\"#9c179e\"],[0.4444444444444444,\"#bd3786\"],[0.5555555555555556,\"#d8576b\"],[0.6666666666666666,\"#ed7953\"],[0.7777777777777778,\"#fb9f3a\"],[0.8888888888888888,\"#fdca26\"],[1.0,\"#f0f921\"]],\"sequentialminus\":[[0.0,\"#0d0887\"],[0.1111111111111111,\"#46039f\"],[0.2222222222222222,\"#7201a8\"],[0.3333333333333333,\"#9c179e\"],[0.4444444444444444,\"#bd3786\"],[0.5555555555555556,\"#d8576b\"],[0.6666666666666666,\"#ed7953\"],[0.7777777777777778,\"#fb9f3a\"],[0.8888888888888888,\"#fdca26\"],[1.0,\"#f0f921\"]],\"diverging\":[[0,\"#8e0152\"],[0.1,\"#c51b7d\"],[0.2,\"#de77ae\"],[0.3,\"#f1b6da\"],[0.4,\"#fde0ef\"],[0.5,\"#f7f7f7\"],[0.6,\"#e6f5d0\"],[0.7,\"#b8e186\"],[0.8,\"#7fbc41\"],[0.9,\"#4d9221\"],[1,\"#276419\"]]},\"xaxis\":{\"gridcolor\":\"white\",\"linecolor\":\"white\",\"ticks\":\"\",\"title\":{\"standoff\":15},\"zerolinecolor\":\"white\",\"automargin\":true,\"zerolinewidth\":2},\"yaxis\":{\"gridcolor\":\"white\",\"linecolor\":\"white\",\"ticks\":\"\",\"title\":{\"standoff\":15},\"zerolinecolor\":\"white\",\"automargin\":true,\"zerolinewidth\":2},\"scene\":{\"xaxis\":{\"backgroundcolor\":\"#E5ECF6\",\"gridcolor\":\"white\",\"linecolor\":\"white\",\"showbackground\":true,\"ticks\":\"\",\"zerolinecolor\":\"white\",\"gridwidth\":2},\"yaxis\":{\"backgroundcolor\":\"#E5ECF6\",\"gridcolor\":\"white\",\"linecolor\":\"white\",\"showbackground\":true,\"ticks\":\"\",\"zerolinecolor\":\"white\",\"gridwidth\":2},\"zaxis\":{\"backgroundcolor\":\"#E5ECF6\",\"gridcolor\":\"white\",\"linecolor\":\"white\",\"showbackground\":true,\"ticks\":\"\",\"zerolinecolor\":\"white\",\"gridwidth\":2}},\"shapedefaults\":{\"line\":{\"color\":\"#2a3f5f\"}},\"annotationdefaults\":{\"arrowcolor\":\"#2a3f5f\",\"arrowhead\":0,\"arrowwidth\":1},\"geo\":{\"bgcolor\":\"white\",\"landcolor\":\"#E5ECF6\",\"subunitcolor\":\"white\",\"showland\":true,\"showlakes\":true,\"lakecolor\":\"white\"},\"title\":{\"x\":0.05},\"mapbox\":{\"style\":\"light\"}}},\"legend\":{\"tracegroupgap\":0},\"margin\":{\"t\":60}},                        {\"responsive\": true}                    ).then(function(){\n",
       "                            \n",
       "var gd = document.getElementById('fba0b5b0-19c9-46ea-83f2-afadf8051198');\n",
       "var x = new MutationObserver(function (mutations, observer) {{\n",
       "        var display = window.getComputedStyle(gd).display;\n",
       "        if (!display || display === 'none') {{\n",
       "            console.log([gd, 'removed!']);\n",
       "            Plotly.purge(gd);\n",
       "            observer.disconnect();\n",
       "        }}\n",
       "}});\n",
       "\n",
       "// Listen for the removal of the full notebook cells\n",
       "var notebookContainer = gd.closest('#notebook-container');\n",
       "if (notebookContainer) {{\n",
       "    x.observe(notebookContainer, {childList: true});\n",
       "}}\n",
       "\n",
       "// Listen for the clearing of the current output cell\n",
       "var outputEl = gd.closest('.output');\n",
       "if (outputEl) {{\n",
       "    x.observe(outputEl, {childList: true});\n",
       "}}\n",
       "\n",
       "                        })                };                });            </script>        </div>"
      ]
     },
     "metadata": {},
     "output_type": "display_data"
    }
   ],
   "source": [
    "import plotly.express as px\n",
    "\n",
    "px.sunburst(df_test, path=['target'])"
   ]
  },
  {
   "cell_type": "code",
   "execution_count": 32,
   "metadata": {},
   "outputs": [
    {
     "name": "stdout",
     "output_type": "stream",
     "text": [
      "Number of datapoints in test subset: 20268 (60.92%)\n",
      "Top-1: 11.6%\n",
      "Top-2: 46.9%\n",
      "Top-3: 61.9%\n",
      "Top-4: 74.7%\n",
      "Top-5: 81.0%\n",
      "Top-6: 84.3%\n",
      "Top-7: 86.7%\n",
      "Top-8: 88.5%\n",
      "Top-9: 89.8%\n",
      "Top-10: 90.9%\n"
     ]
    }
   ],
   "source": [
    "inds_not_14 = df_test.query('target != \"14\"').index.values\n",
    "df_not_14 = score_predictions(beam_size=10, tgt_path=targets, pred_path=transformer_preds, ignore_last_number=False, inds = inds_not_14)"
   ]
  },
  {
   "cell_type": "code",
   "execution_count": 51,
   "metadata": {},
   "outputs": [
    {
     "name": "stdout",
     "output_type": "stream",
     "text": [
      "Number of datapoints in test subset: 3420 (10.28%)\n",
      "Top-1: 0.0%\n",
      "Top-2: 0.2%\n",
      "Top-3: 1.1%\n",
      "Top-4: 1.9%\n",
      "Top-5: 8.0%\n",
      "Top-6: 13.5%\n",
      "Top-7: 23.9%\n",
      "Top-8: 32.8%\n",
      "Top-9: 39.8%\n",
      "Top-10: 46.0%\n"
     ]
    }
   ],
   "source": [
    "common_spacegroups = [\"14\", \"19\", \"4\", \"2\", \"61\", \"33\"]\n",
    "inds_uncommon = df_test.query('~target.isin(@common_spacegroups)').index.values\n",
    "df_uncommon = score_predictions(beam_size=10, tgt_path=targets, pred_path=transformer_preds, ignore_last_number=False, inds = inds_uncommon)"
   ]
  },
  {
   "cell_type": "markdown",
   "metadata": {},
   "source": [
    "Baseline - prediction by frequency"
   ]
  },
  {
   "cell_type": "code",
   "execution_count": 36,
   "metadata": {},
   "outputs": [],
   "source": [
    "from collections import Counter\n",
    "\n",
    "\n",
    "def score_predictions_by_frequency(beam_size:int = 5,\n",
    "                                    tgt_path:str = 'targets.txt',\n",
    "                                    src_path:str = 'tgt-train.txt',\n",
    "                                    inds:List = None,\n",
    "                                    ignore_last_number: bool = False):\n",
    "    \n",
    "    targets = read_targets(tgt_path, ignore_last_number)\n",
    "\n",
    "    targets_in_training_set = read_targets(src_path, ignore_last_number)\n",
    "    occurence_count = Counter(targets_in_training_set) \n",
    "    top_n_most_frequent = occurence_count.most_common(n=beam_size)\n",
    "    predictions = [[str(top_n_most_frequent[i][0])]*len(targets) for i in range(beam_size)]\n",
    "    # print(predictions)\n",
    "    if inds is not None:\n",
    "        old_len = len(targets)\n",
    "        targets = [targets[i] for i in inds]\n",
    "        predictions = [[predictions[j][i] for i in inds] for j in range(beam_size)]\n",
    "        print(f'Number of datapoints in test subset: {len(targets)} ({100*len(targets)/old_len:.2f}%)')\n",
    "\n",
    "    else:   \n",
    "        print(f'Number of datapoints in test set: {len(targets)}')\n",
    "    test_df = score_accuracy(targets, predictions, beam_size)\n",
    "    return test_df\n"
   ]
  },
  {
   "cell_type": "code",
   "execution_count": 46,
   "metadata": {},
   "outputs": [
    {
     "name": "stdout",
     "output_type": "stream",
     "text": [
      "Number of datapoints in test set: 33268\n",
      "Top-1: 39.1%\n",
      "Top-2: 61.1%\n",
      "Top-3: 74.0%\n",
      "Top-4: 83.7%\n",
      "Top-5: 87.9%\n",
      "Top-6: 89.7%\n",
      "Top-7: 91.1%\n",
      "Top-8: 92.3%\n",
      "Top-9: 93.0%\n",
      "Top-10: 93.7%\n"
     ]
    }
   ],
   "source": [
    "data_dir = '/home/wjm41/ml_physics/smi2wyk/data'\n",
    "dataset = 'smi2spgnum'\n",
    "transformer_preds = f'{data_dir}/{dataset}/pred_step_57500.txt'\n",
    "\n",
    "targets = f'{data_dir}/{dataset}/tgt-test.csv'\n",
    "train_targets = f'{data_dir}/{dataset}/tgt-train.csv'\n",
    "\n",
    "df_test = score_predictions_by_frequency(beam_size=10, tgt_path=targets, src_path=train_targets, ignore_last_number=False,)"
   ]
  },
  {
   "cell_type": "code",
   "execution_count": 47,
   "metadata": {},
   "outputs": [
    {
     "name": "stdout",
     "output_type": "stream",
     "text": [
      "Number of datapoints in test subset: 20268 (60.92%)\n",
      "Top-1: 0.0%\n",
      "Top-2: 36.1%\n",
      "Top-3: 57.4%\n",
      "Top-4: 73.2%\n",
      "Top-5: 80.1%\n",
      "Top-6: 83.1%\n",
      "Top-7: 85.4%\n",
      "Top-8: 87.3%\n",
      "Top-9: 88.5%\n",
      "Top-10: 89.6%\n"
     ]
    }
   ],
   "source": [
    "df_not_14 = score_predictions_by_frequency(beam_size=10, tgt_path=targets, src_path=train_targets, inds=inds_not_14, ignore_last_number=False,)"
   ]
  },
  {
   "cell_type": "code",
   "execution_count": 49,
   "metadata": {},
   "outputs": [
    {
     "name": "stdout",
     "output_type": "stream",
     "text": [
      "Number of datapoints in test subset: 5437 (16.34%)\n",
      "Top-1: 0.0%\n",
      "Top-2: 0.0%\n",
      "Top-3: 0.0%\n",
      "Top-4: 0.0%\n",
      "Top-5: 25.8%\n",
      "Top-6: 37.1%\n",
      "Top-7: 45.7%\n",
      "Top-8: 52.6%\n",
      "Top-9: 57.1%\n",
      "Top-10: 61.2%\n"
     ]
    }
   ],
   "source": [
    "common_spacegroups = [\"14\", \"19\", \"4\", \"2\", \"61\", \"33\"]\n",
    "inds_uncommon = df_test.query('~target.isin(@common_spacegroups)').index.values\n",
    "df_uncommon = score_predictions_by_frequency(beam_size=10, tgt_path=targets, src_path=train_targets, inds=inds_uncommon, ignore_last_number=False,)"
   ]
  },
  {
   "cell_type": "markdown",
   "metadata": {},
   "source": [
    "### Spacegroup String (untokenized)"
   ]
  },
  {
   "cell_type": "code",
   "execution_count": 23,
   "metadata": {},
   "outputs": [
    {
     "name": "stdout",
     "output_type": "stream",
     "text": [
      "Number of datapoints in test set: 33268\n",
      "Top-1: 31.0%\n",
      "Top-2: 52.3%\n",
      "Top-3: 67.6%\n",
      "Top-4: 76.5%\n",
      "Top-5: 83.4%\n",
      "Top-6: 87.1%\n",
      "Top-7: 88.9%\n",
      "Top-8: 90.5%\n",
      "Top-9: 91.6%\n",
      "Top-10: 92.5%\n"
     ]
    }
   ],
   "source": [
    "data_dir = '/home/wjm41/ml_physics/smi2wyk/data'\n",
    "dataset = 'smi2spgstr'\n",
    "transformer_preds = f'{data_dir}/{dataset}/pred_step_57500.txt'\n",
    "\n",
    "targets = f'{data_dir}/{dataset}/tgt-test.csv'\n",
    "df_test = score_predictions(beam_size=10, tgt_path=targets, pred_path=transformer_preds, ignore_last_number=False,)"
   ]
  },
  {
   "cell_type": "code",
   "execution_count": 27,
   "metadata": {},
   "outputs": [
    {
     "data": {
      "text/plain": [
       "P21/c      7711\n",
       "P-1        7316\n",
       "P21/n      4832\n",
       "P212121    4310\n",
       "P21        3196\n",
       "Pbca       1352\n",
       "Name: target, dtype: int64"
      ]
     },
     "execution_count": 27,
     "metadata": {},
     "output_type": "execute_result"
    }
   ],
   "source": [
    "df_test.target.value_counts().iloc[:6]"
   ]
  },
  {
   "cell_type": "code",
   "execution_count": 28,
   "metadata": {},
   "outputs": [
    {
     "name": "stdout",
     "output_type": "stream",
     "text": [
      "Number of datapoints in test subset: 4551 (13.68%)\n",
      "Top-1: 0.0%\n",
      "Top-2: 0.0%\n",
      "Top-3: 0.9%\n",
      "Top-4: 2.1%\n",
      "Top-5: 3.5%\n",
      "Top-6: 8.2%\n",
      "Top-7: 20.5%\n",
      "Top-8: 31.1%\n",
      "Top-9: 38.8%\n",
      "Top-10: 45.1%\n"
     ]
    }
   ],
   "source": [
    "common_spacegroups = [\"P21/c\", \"P-1\", \"P21/n\", \"P212121\", \"P21\", \"Pbca\"]\n",
    "inds_uncommon = df_test.query('~target.isin(@common_spacegroups)').index.values\n",
    "df_uncommon = score_predictions(beam_size=10, tgt_path=targets, pred_path=transformer_preds, ignore_last_number=False, inds = inds_uncommon)"
   ]
  },
  {
   "cell_type": "markdown",
   "metadata": {},
   "source": [
    "### Spacegroup String (tokenized)"
   ]
  },
  {
   "cell_type": "code",
   "execution_count": 20,
   "metadata": {},
   "outputs": [
    {
     "name": "stdout",
     "output_type": "stream",
     "text": [
      "Number of datapoints in test set: 33268\n",
      "Top-1: 30.8%\n",
      "Top-2: 51.2%\n",
      "Top-3: 65.6%\n",
      "Top-4: 73.0%\n",
      "Top-5: 77.2%\n",
      "Top-6: 79.3%\n",
      "Top-7: 80.7%\n",
      "Top-8: 81.9%\n",
      "Top-9: 82.7%\n",
      "Top-10: 83.4%\n"
     ]
    }
   ],
   "source": [
    "data_dir = '/home/wjm41/ml_physics/smi2wyk/data'\n",
    "dataset = 'smi2spgstrtok'\n",
    "transformer_preds = f'{data_dir}/{dataset}/pred_step_57500.txt'\n",
    "\n",
    "targets = f'{data_dir}/{dataset}/tgt-test.csv'\n",
    "df_test = score_predictions(beam_size=10, tgt_path=targets, pred_path=transformer_preds, ignore_last_number=False,)"
   ]
  }
 ],
 "metadata": {
  "interpreter": {
   "hash": "4a98ec2822b38b1948661d4c5686e8b34cc301e9c46a1188b0127b15dc9e9c3f"
  },
  "kernelspec": {
   "display_name": "Python 3.7.13 64-bit ('csd_env')",
   "language": "python",
   "name": "python3"
  },
  "language_info": {
   "codemirror_mode": {
    "name": "ipython",
    "version": 3
   },
   "file_extension": ".py",
   "mimetype": "text/x-python",
   "name": "python",
   "nbconvert_exporter": "python",
   "pygments_lexer": "ipython3",
   "version": "3.7.13"
  },
  "orig_nbformat": 4
 },
 "nbformat": 4,
 "nbformat_minor": 2
}
