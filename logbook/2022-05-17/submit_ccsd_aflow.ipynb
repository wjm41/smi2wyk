{
 "cells": [
  {
   "cell_type": "markdown",
   "metadata": {},
   "source": [
    "# 13th May 2022\n",
    "\n",
    "Notebook for submitting transformer jobs training on molecular smiles -> prototype label & pearson label."
   ]
  },
  {
   "cell_type": "code",
   "execution_count": 2,
   "metadata": {},
   "outputs": [],
   "source": [
    "from typing import List\n",
    "\n",
    "def write_slurm_script(job_name: str,\n",
    "                       run_time: str,\n",
    "                       output_name: str,\n",
    "                       script: str,\n",
    "                       file_name: str,\n",
    "                       args: List = None,\n",
    "                       ntasks: int = 1,\n",
    "                       ncores: int = 1,\n",
    "                       package_dir: str = None,\n",
    "                       email: bool = False,\n",
    "                       gpu: bool = False,\n",
    "                       conda_env: str = 'ampere'):\n",
    "\n",
    "    if gpu:\n",
    "        slurm_options = [\n",
    "            '#!/bin/bash',\n",
    "            f'#SBATCH -J {job_name}',\n",
    "            '#SBATCH -A LEE-WJM41-SL2-GPU',\n",
    "            '#SBATCH --nodes=1',\n",
    "            f'#SBATCH --ntasks={ntasks}',\n",
    "            f'#SBATCH --gres=gpu:{ncores}',\n",
    "            f'#SBATCH --time={run_time}',\n",
    "            '#SBATCH --mail-user=wjm41@cam.ac.uk',\n",
    "            f'#SBATCH --output={output_name}',\n",
    "            '#SBATCH -p ampere',\n",
    "        ]\n",
    "    else:\n",
    "        slurm_options = [\n",
    "            '#!/bin/bash',\n",
    "            f'#SBATCH -J {job_name}',\n",
    "            '#SBATCH -A LEE-WJM41-SL2-CPU',\n",
    "            '#SBATCH --nodes=1',\n",
    "            f'#SBATCH --ntasks={ntasks}',\n",
    "            ' #SBATCH --cpus-per-task=1',\n",
    "            f'#SBATCH --time={run_time}',\n",
    "            '#SBATCH --mail-user=wjm41@cam.ac.uk',\n",
    "            f'#SBATCH --output={output_name}',\n",
    "            '#SBATCH -p icelake-himem',\n",
    "        ]\n",
    "    if email:\n",
    "        slurm_options.append('#SBATCH --mail-type=ALL')\n",
    "\n",
    "    if gpu:\n",
    "        module_options = [\n",
    "            '. /etc/profile.d/modules.sh',\n",
    "            'module purge',\n",
    "            'module load rhel8/default-amp',\n",
    "            'module load miniconda/3',\n",
    "            f'source activate {conda_env}',\n",
    "        ]\n",
    "    else:\n",
    "        module_options = [\n",
    "            '. /etc/profile.d/modules.sh',\n",
    "            'module purge',\n",
    "            'module load rhel8/default-amp',\n",
    "            'module load miniconda/3',\n",
    "            f'source activate {conda_env}',\n",
    "        ]\n",
    "    if package_dir is not None:\n",
    "        pre_empt = f'cd {package_dir}; pip install . --use-feature=in-tree-build'\n",
    "    else:\n",
    "        pre_empt = ''\n",
    "\n",
    "    slurm_options = '\\n'.join(slurm_options)\n",
    "    module_options = '\\n'.join(module_options)\n",
    "    if args is not None:\n",
    "        command_to_run = ' '.join([script]+args)\n",
    "    else:\n",
    "        command_to_run = script\n",
    "        \n",
    "    string_to_write = f'{slurm_options}\\n{module_options}\\n{pre_empt}\\n{command_to_run}'\n",
    "\n",
    "    with open(file_name, 'w') as f:\n",
    "        f.write(string_to_write)\n",
    "\n",
    "    return\n"
   ]
  },
  {
   "cell_type": "markdown",
   "metadata": {},
   "source": [
    "Training"
   ]
  },
  {
   "cell_type": "code",
   "execution_count": 3,
   "metadata": {},
   "outputs": [
    {
     "name": "stdout",
     "output_type": "stream",
     "text": [
      "Submitted MPI aflow jobs, writing to /home/wjm41/ml_physics/smi2wyk/data/smi2protopear/csd_organic_aflow.csv\n",
      "/bin/bash: sbatch: command not found\n"
     ]
    }
   ],
   "source": [
    "import os\n",
    "\n",
    "current_dir = os.getcwd()\n",
    "data_dir = '/home/wjm41/ml_physics/smi2wyk/data/smi2protopear'\n",
    "\n",
    "output_path = f'{data_dir}/csd_organic_aflow.csv'\n",
    "\n",
    "ntasks = 76\n",
    "python_script = f'python mpi_aflow_generation.py --output_path {output_path}'\n",
    "mpi_script = f'mpirun -np {ntasks} -ppn {ntasks}'\n",
    "script = f'{mpi_script} {python_script}'\n",
    "\n",
    "file_name = f'subm_mpi_aflow'\n",
    "run_time = '3:00:00'\n",
    "output_name = f'{current_dir}/{file_name}.out'\n",
    "\n",
    "write_slurm_script(job_name=f'{file_name}',\n",
    "                   run_time=f'{run_time}',\n",
    "                   output_name=output_name,\n",
    "                   script=script,\n",
    "                   file_name=file_name,\n",
    "                   email=True,\n",
    "                   ntasks=ntasks,\n",
    "                   conda_env='csd_env',\n",
    "                   gpu=False\n",
    "                   )\n",
    "\n",
    "print(f\"Submitted MPI aflow jobs, writing to {output_path}\")\n",
    "\n",
    "!sbatch {file_name}\n"
   ]
  },
  {
   "cell_type": "code",
   "execution_count": null,
   "metadata": {},
   "outputs": [],
   "source": []
  }
 ],
 "metadata": {
  "interpreter": {
   "hash": "4a98ec2822b38b1948661d4c5686e8b34cc301e9c46a1188b0127b15dc9e9c3f"
  },
  "kernelspec": {
   "display_name": "Python 3.7.13 64-bit ('csd_env')",
   "language": "python",
   "name": "python3"
  },
  "language_info": {
   "codemirror_mode": {
    "name": "ipython",
    "version": 3
   },
   "file_extension": ".py",
   "mimetype": "text/x-python",
   "name": "python",
   "nbconvert_exporter": "python",
   "pygments_lexer": "ipython3",
   "version": "3.7.13"
  },
  "orig_nbformat": 4
 },
 "nbformat": 4,
 "nbformat_minor": 2
}
